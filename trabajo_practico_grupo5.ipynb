{
 "cells": [
  {
   "cell_type": "code",
   "execution_count": 1,
   "metadata": {},
   "outputs": [],
   "source": [
    "import pandas as pd\n",
    "import altair as alt\n",
    "import duckdb as db\n",
    "import altair_saver\n"
   ]
  },
  {
   "cell_type": "code",
   "execution_count": 4,
   "metadata": {},
   "outputs": [],
   "source": [
    "parquet_result_1v = '/Users/liammacgaw/Desktop/InfoVis/tp/ResultadosElectorales_1v.parquet'\n",
    "parquet_result_paso = '/Users/liammacgaw/Desktop/InfoVis/tp/ResultadosElectorales_PASO_2023.parquet'"
   ]
  },
  {
   "cell_type": "code",
   "execution_count": 3,
   "metadata": {},
   "outputs": [
    {
     "data": {
      "application/vnd.jupyter.widget-view+json": {
       "model_id": "54f38f4f6cdb4f24b9eb4ae6adabfc47",
       "version_major": 2,
       "version_minor": 0
      },
      "text/plain": [
       "FloatProgress(value=0.0, layout=Layout(width='auto'), style=ProgressStyle(bar_color='black'))"
      ]
     },
     "metadata": {},
     "output_type": "display_data"
    }
   ],
   "source": [
    "result_1v = pd.read_parquet('/Users/liammacgaw/Desktop/InfoVis/tp/ResultadosElectorales_1v.parquet')\n",
    "voto_presidencial_general = db.sql(\"select * from result_1v where cargo_id = 1\").df()"
   ]
  },
  {
   "cell_type": "code",
   "execution_count": 5,
   "metadata": {},
   "outputs": [
    {
     "data": {
      "application/vnd.jupyter.widget-view+json": {
       "model_id": "b6283ca204cc4e499f39fa6ec9e68482",
       "version_major": 2,
       "version_minor": 0
      },
      "text/plain": [
       "FloatProgress(value=0.0, layout=Layout(width='auto'), style=ProgressStyle(bar_color='black'))"
      ]
     },
     "metadata": {},
     "output_type": "display_data"
    }
   ],
   "source": [
    "result_paso = pd.read_parquet('/Users/liammacgaw/Desktop/InfoVis/tp/ResultadosElectorales_PASO_2023.parquet')\n",
    "voto_presidencial_paso = db.sql(\"select * from result_paso where cargo_id = 1\").df()"
   ]
  },
  {
   "cell_type": "code",
   "execution_count": 6,
   "metadata": {},
   "outputs": [],
   "source": [
    "voto_presidencial_general['distrito_nombre'] = voto_presidencial_general['distrito_nombre'].replace(\n",
    "    {'Tierra del Fuego, Antártida e Islas del Atlántico Sur': 'Tierra del Fuego'}\n",
    ")\n",
    "voto_presidencial_paso['distrito_nombre'] = voto_presidencial_paso['distrito_nombre'].replace(\n",
    "    {'Tierra del Fuego, Antártida e Islas del Atlántico Sur': 'Tierra del Fuego'}\n",
    ")\n",
    "voto_presidencial_general['agrupacion_nombre'] = voto_presidencial_general['agrupacion_nombre'].replace(\n",
    "    {'LA LIBERTAD AVANZA': 'LLA',\n",
    "    'JUNTOS POR EL CAMBIO': 'JxC',\n",
    "    'UNION POR LA PATRIA': 'UP',\n",
    "    'FRENTE DE IZQUIERDA Y DE TRABAJADORES - UNIDAD': 'FIT-U', \n",
    "    'HACEMOS POR NUESTRO PAIS': 'HpNP'}\n",
    ")\n",
    "voto_presidencial_paso['agrupacion_nombre'] = voto_presidencial_paso['agrupacion_nombre'].replace(\n",
    "    {'LA LIBERTAD AVANZA': 'LLA',\n",
    "    'JUNTOS POR EL CAMBIO': 'JxC',\n",
    "    'UNION POR LA PATRIA': 'UP',\n",
    "    'FRENTE DE IZQUIERDA Y DE TRABAJADORES - UNIDAD': 'FIT-U', \n",
    "    'HACEMOS POR NUESTRO PAIS': 'HpNP'}\n",
    ")"
   ]
  },
  {
   "cell_type": "code",
   "execution_count": 7,
   "metadata": {},
   "outputs": [],
   "source": [
    "provincia_votos_general = db.sql(\"select distrito_nombre, agrupacion_nombre, SUM(votos_cantidad) AS total_votos FROM voto_presidencial_general WHERE agrupacion_nombre IN ('UP','LLA','JxC') GROUP BY distrito_nombre, agrupacion_nombre ORDER BY distrito_nombre\")\n",
    "df_provincia_votos_general = provincia_votos_general.df()\n",
    "provincia_votos_paso = db.sql(\"select distrito_nombre, agrupacion_nombre, SUM(votos_cantidad) AS total_votos FROM voto_presidencial_paso WHERE agrupacion_nombre IN ('UP','LLA','JxC') GROUP BY distrito_nombre, agrupacion_nombre ORDER BY distrito_nombre\")\n",
    "df_provincia_votos_paso = provincia_votos_paso.df()"
   ]
  },
  {
   "cell_type": "code",
   "execution_count": 8,
   "metadata": {},
   "outputs": [],
   "source": [
    "colors = {'UP': 'rgb(0, 156, 222)', 'LLA': 'rgb(117, 59, 189)', 'JxC': 'rgb(254, 221, 0)'}"
   ]
  },
  {
   "cell_type": "code",
   "execution_count": 20,
   "metadata": {},
   "outputs": [
    {
     "data": {
      "text/html": [
       "\n",
       "<style>\n",
       "  #altair-viz-e5463e3acc074921911eb6acfd3f1513.vega-embed {\n",
       "    width: 100%;\n",
       "    display: flex;\n",
       "  }\n",
       "\n",
       "  #altair-viz-e5463e3acc074921911eb6acfd3f1513.vega-embed details,\n",
       "  #altair-viz-e5463e3acc074921911eb6acfd3f1513.vega-embed details summary {\n",
       "    position: relative;\n",
       "  }\n",
       "</style>\n",
       "<div id=\"altair-viz-e5463e3acc074921911eb6acfd3f1513\"></div>\n",
       "<script type=\"text/javascript\">\n",
       "  var VEGA_DEBUG = (typeof VEGA_DEBUG == \"undefined\") ? {} : VEGA_DEBUG;\n",
       "  (function(spec, embedOpt){\n",
       "    let outputDiv = document.currentScript.previousElementSibling;\n",
       "    if (outputDiv.id !== \"altair-viz-e5463e3acc074921911eb6acfd3f1513\") {\n",
       "      outputDiv = document.getElementById(\"altair-viz-e5463e3acc074921911eb6acfd3f1513\");\n",
       "    }\n",
       "    const paths = {\n",
       "      \"vega\": \"https://cdn.jsdelivr.net/npm/vega@5?noext\",\n",
       "      \"vega-lib\": \"https://cdn.jsdelivr.net/npm/vega-lib?noext\",\n",
       "      \"vega-lite\": \"https://cdn.jsdelivr.net/npm/vega-lite@5.15.1?noext\",\n",
       "      \"vega-embed\": \"https://cdn.jsdelivr.net/npm/vega-embed@6?noext\",\n",
       "    };\n",
       "\n",
       "    function maybeLoadScript(lib, version) {\n",
       "      var key = `${lib.replace(\"-\", \"\")}_version`;\n",
       "      return (VEGA_DEBUG[key] == version) ?\n",
       "        Promise.resolve(paths[lib]) :\n",
       "        new Promise(function(resolve, reject) {\n",
       "          var s = document.createElement('script');\n",
       "          document.getElementsByTagName(\"head\")[0].appendChild(s);\n",
       "          s.async = true;\n",
       "          s.onload = () => {\n",
       "            VEGA_DEBUG[key] = version;\n",
       "            return resolve(paths[lib]);\n",
       "          };\n",
       "          s.onerror = () => reject(`Error loading script: ${paths[lib]}`);\n",
       "          s.src = paths[lib];\n",
       "        });\n",
       "    }\n",
       "\n",
       "    function showError(err) {\n",
       "      outputDiv.innerHTML = `<div class=\"error\" style=\"color:red;\">${err}</div>`;\n",
       "      throw err;\n",
       "    }\n",
       "\n",
       "    function displayChart(vegaEmbed) {\n",
       "      vegaEmbed(outputDiv, spec, embedOpt)\n",
       "        .catch(err => showError(`Javascript Error: ${err.message}<br>This usually means there's a typo in your chart specification. See the javascript console for the full traceback.`));\n",
       "    }\n",
       "\n",
       "    if(typeof define === \"function\" && define.amd) {\n",
       "      requirejs.config({paths});\n",
       "      require([\"vega-embed\"], displayChart, err => showError(`Error loading script: ${err.message}`));\n",
       "    } else {\n",
       "      maybeLoadScript(\"vega\", \"5\")\n",
       "        .then(() => maybeLoadScript(\"vega-lite\", \"5.15.1\"))\n",
       "        .then(() => maybeLoadScript(\"vega-embed\", \"6\"))\n",
       "        .catch(showError)\n",
       "        .then(() => displayChart(vegaEmbed));\n",
       "    }\n",
       "  })({\"config\": {\"view\": {\"continuousWidth\": 300, \"continuousHeight\": 300}}, \"data\": {\"name\": \"data-6f9778d1a2524335022a80cc91b7b060\"}, \"mark\": {\"type\": \"bar\"}, \"encoding\": {\"color\": {\"field\": \"agrupacion_nombre\", \"scale\": {\"domain\": [\"UP\", \"LLA\", \"JxC\"], \"range\": [\"rgb(0, 156, 222)\", \"rgb(117, 59, 189)\", \"rgb(254, 221, 0)\"]}, \"title\": \"Agrupaci\\u00f3n\", \"type\": \"nominal\"}, \"tooltip\": [{\"field\": \"distrito_nombre\", \"type\": \"nominal\"}, {\"field\": \"agrupacion_nombre\", \"type\": \"nominal\"}, {\"field\": \"total_votos\", \"type\": \"quantitative\"}], \"x\": {\"field\": \"total_votos\", \"title\": \"Total de Votos\", \"type\": \"quantitative\"}, \"y\": {\"field\": \"distrito_nombre\", \"title\": \"Provincia\", \"type\": \"nominal\"}}, \"height\": 500, \"title\": \"Cantidad de votos por Agrupaci\\u00f3n y Provincia\", \"width\": 600, \"$schema\": \"https://vega.github.io/schema/vega-lite/v5.15.1.json\", \"datasets\": {\"data-6f9778d1a2524335022a80cc91b7b060\": [{\"distrito_nombre\": \"Buenos Aires\", \"agrupacion_nombre\": \"LLA\", \"total_votos\": 2533633.0}, {\"distrito_nombre\": \"Buenos Aires\", \"agrupacion_nombre\": \"JxC\", \"total_votos\": 2374023.0}, {\"distrito_nombre\": \"Buenos Aires\", \"agrupacion_nombre\": \"UP\", \"total_votos\": 4224688.0}, {\"distrito_nombre\": \"Catamarca\", \"agrupacion_nombre\": \"LLA\", \"total_votos\": 74570.0}, {\"distrito_nombre\": \"Catamarca\", \"agrupacion_nombre\": \"UP\", \"total_votos\": 99612.0}, {\"distrito_nombre\": \"Catamarca\", \"agrupacion_nombre\": \"JxC\", \"total_votos\": 39960.0}, {\"distrito_nombre\": \"Chaco\", \"agrupacion_nombre\": \"JxC\", \"total_votos\": 171756.0}, {\"distrito_nombre\": \"Chaco\", \"agrupacion_nombre\": \"UP\", \"total_votos\": 310962.0}, {\"distrito_nombre\": \"Chaco\", \"agrupacion_nombre\": \"LLA\", \"total_votos\": 197596.0}, {\"distrito_nombre\": \"Chubut\", \"agrupacion_nombre\": \"JxC\", \"total_votos\": 70717.0}, {\"distrito_nombre\": \"Chubut\", \"agrupacion_nombre\": \"UP\", \"total_votos\": 110820.0}, {\"distrito_nombre\": \"Chubut\", \"agrupacion_nombre\": \"LLA\", \"total_votos\": 120297.0}, {\"distrito_nombre\": \"Ciudad Aut\\u00f3noma de Buenos Aires\", \"agrupacion_nombre\": \"LLA\", \"total_votos\": 369424.0}, {\"distrito_nombre\": \"Ciudad Aut\\u00f3noma de Buenos Aires\", \"agrupacion_nombre\": \"JxC\", \"total_votos\": 767367.0}, {\"distrito_nombre\": \"Ciudad Aut\\u00f3noma de Buenos Aires\", \"agrupacion_nombre\": \"UP\", \"total_votos\": 600832.0}, {\"distrito_nombre\": \"Corrientes\", \"agrupacion_nombre\": \"UP\", \"total_votos\": 260040.0}, {\"distrito_nombre\": \"Corrientes\", \"agrupacion_nombre\": \"JxC\", \"total_votos\": 224519.0}, {\"distrito_nombre\": \"Corrientes\", \"agrupacion_nombre\": \"LLA\", \"total_votos\": 187916.0}, {\"distrito_nombre\": \"C\\u00f3rdoba\", \"agrupacion_nombre\": \"LLA\", \"total_votos\": 769847.0}, {\"distrito_nombre\": \"C\\u00f3rdoba\", \"agrupacion_nombre\": \"UP\", \"total_votos\": 308016.0}, {\"distrito_nombre\": \"C\\u00f3rdoba\", \"agrupacion_nombre\": \"JxC\", \"total_votos\": 519252.0}, {\"distrito_nombre\": \"Entre R\\u00edos\", \"agrupacion_nombre\": \"UP\", \"total_votos\": 276850.0}, {\"distrito_nombre\": \"Entre R\\u00edos\", \"agrupacion_nombre\": \"JxC\", \"total_votos\": 250512.0}, {\"distrito_nombre\": \"Entre R\\u00edos\", \"agrupacion_nombre\": \"LLA\", \"total_votos\": 247640.0}, {\"distrito_nombre\": \"Formosa\", \"agrupacion_nombre\": \"LLA\", \"total_votos\": 103911.0}, {\"distrito_nombre\": \"Formosa\", \"agrupacion_nombre\": \"UP\", \"total_votos\": 187229.0}, {\"distrito_nombre\": \"Formosa\", \"agrupacion_nombre\": \"JxC\", \"total_votos\": 55097.0}, {\"distrito_nombre\": \"Jujuy\", \"agrupacion_nombre\": \"JxC\", \"total_votos\": 90095.0}, {\"distrito_nombre\": \"Jujuy\", \"agrupacion_nombre\": \"UP\", \"total_votos\": 146027.0}, {\"distrito_nombre\": \"Jujuy\", \"agrupacion_nombre\": \"LLA\", \"total_votos\": 168921.0}, {\"distrito_nombre\": \"La Pampa\", \"agrupacion_nombre\": \"UP\", \"total_votos\": 79229.0}, {\"distrito_nombre\": \"La Pampa\", \"agrupacion_nombre\": \"JxC\", \"total_votos\": 49911.0}, {\"distrito_nombre\": \"La Pampa\", \"agrupacion_nombre\": \"LLA\", \"total_votos\": 76341.0}, {\"distrito_nombre\": \"La Rioja\", \"agrupacion_nombre\": \"UP\", \"total_votos\": 97412.0}, {\"distrito_nombre\": \"La Rioja\", \"agrupacion_nombre\": \"JxC\", \"total_votos\": 27975.0}, {\"distrito_nombre\": \"La Rioja\", \"agrupacion_nombre\": \"LLA\", \"total_votos\": 89236.0}, {\"distrito_nombre\": \"Mendoza\", \"agrupacion_nombre\": \"LLA\", \"total_votos\": 469367.0}, {\"distrito_nombre\": \"Mendoza\", \"agrupacion_nombre\": \"UP\", \"total_votos\": 265740.0}, {\"distrito_nombre\": \"Mendoza\", \"agrupacion_nombre\": \"JxC\", \"total_votos\": 286475.0}, {\"distrito_nombre\": \"Misiones\", \"agrupacion_nombre\": \"LLA\", \"total_votos\": 305629.0}, {\"distrito_nombre\": \"Misiones\", \"agrupacion_nombre\": \"UP\", \"total_votos\": 275062.0}, {\"distrito_nombre\": \"Misiones\", \"agrupacion_nombre\": \"JxC\", \"total_votos\": 104787.0}, {\"distrito_nombre\": \"Neuqu\\u00e9n\", \"agrupacion_nombre\": \"LLA\", \"total_votos\": 155394.0}, {\"distrito_nombre\": \"Neuqu\\u00e9n\", \"agrupacion_nombre\": \"UP\", \"total_votos\": 134510.0}, {\"distrito_nombre\": \"Neuqu\\u00e9n\", \"agrupacion_nombre\": \"JxC\", \"total_votos\": 86927.0}, {\"distrito_nombre\": \"R\\u00edo Negro\", \"agrupacion_nombre\": \"LLA\", \"total_votos\": 148037.0}, {\"distrito_nombre\": \"R\\u00edo Negro\", \"agrupacion_nombre\": \"JxC\", \"total_votos\": 79609.0}, {\"distrito_nombre\": \"R\\u00edo Negro\", \"agrupacion_nombre\": \"UP\", \"total_votos\": 166135.0}, {\"distrito_nombre\": \"Salta\", \"agrupacion_nombre\": \"LLA\", \"total_votos\": 309115.0}, {\"distrito_nombre\": \"Salta\", \"agrupacion_nombre\": \"UP\", \"total_votos\": 287756.0}, {\"distrito_nombre\": \"Salta\", \"agrupacion_nombre\": \"JxC\", \"total_votos\": 106684.0}, {\"distrito_nombre\": \"San Juan\", \"agrupacion_nombre\": \"UP\", \"total_votos\": 147523.0}, {\"distrito_nombre\": \"San Juan\", \"agrupacion_nombre\": \"JxC\", \"total_votos\": 103118.0}, {\"distrito_nombre\": \"San Juan\", \"agrupacion_nombre\": \"LLA\", \"total_votos\": 155821.0}, {\"distrito_nombre\": \"San Luis\", \"agrupacion_nombre\": \"LLA\", \"total_votos\": 138251.0}, {\"distrito_nombre\": \"San Luis\", \"agrupacion_nombre\": \"UP\", \"total_votos\": 86681.0}, {\"distrito_nombre\": \"San Luis\", \"agrupacion_nombre\": \"JxC\", \"total_votos\": 66824.0}, {\"distrito_nombre\": \"Santa Cruz\", \"agrupacion_nombre\": \"JxC\", \"total_votos\": 28101.0}, {\"distrito_nombre\": \"Santa Cruz\", \"agrupacion_nombre\": \"UP\", \"total_votos\": 65062.0}, {\"distrito_nombre\": \"Santa Cruz\", \"agrupacion_nombre\": \"LLA\", \"total_votos\": 62350.0}, {\"distrito_nombre\": \"Santa Fe\", \"agrupacion_nombre\": \"LLA\", \"total_votos\": 657813.0}, {\"distrito_nombre\": \"Santa Fe\", \"agrupacion_nombre\": \"JxC\", \"total_votos\": 544677.0}, {\"distrito_nombre\": \"Santa Fe\", \"agrupacion_nombre\": \"UP\", \"total_votos\": 601241.0}, {\"distrito_nombre\": \"Santiago del Estero\", \"agrupacion_nombre\": \"JxC\", \"total_votos\": 49761.0}, {\"distrito_nombre\": \"Santiago del Estero\", \"agrupacion_nombre\": \"UP\", \"total_votos\": 402863.0}, {\"distrito_nombre\": \"Santiago del Estero\", \"agrupacion_nombre\": \"LLA\", \"total_votos\": 141344.0}, {\"distrito_nombre\": \"Tierra del Fuego\", \"agrupacion_nombre\": \"UP\", \"total_votos\": 40548.0}, {\"distrito_nombre\": \"Tierra del Fuego\", \"agrupacion_nombre\": \"JxC\", \"total_votos\": 15875.0}, {\"distrito_nombre\": \"Tierra del Fuego\", \"agrupacion_nombre\": \"LLA\", \"total_votos\": 35891.0}, {\"distrito_nombre\": \"Tucum\\u00e1n\", \"agrupacion_nombre\": \"UP\", \"total_votos\": 471145.0}, {\"distrito_nombre\": \"Tucum\\u00e1n\", \"agrupacion_nombre\": \"JxC\", \"total_votos\": 153130.0}, {\"distrito_nombre\": \"Tucum\\u00e1n\", \"agrupacion_nombre\": \"LLA\", \"total_votos\": 365992.0}]}}, {\"mode\": \"vega-lite\"});\n",
       "</script>"
      ],
      "text/plain": [
       "alt.Chart(...)"
      ]
     },
     "execution_count": 20,
     "metadata": {},
     "output_type": "execute_result"
    }
   ],
   "source": [
    "# Cantidad de votos por Agrupacion y Provincia\n",
    "chart1 = alt.Chart(df_provincia_votos_general).mark_bar().encode(\n",
    "    y=alt.Y('distrito_nombre:N', title='Provincia'),\n",
    "    x=alt.X('total_votos:Q', title='Total de Votos'),\n",
    "    color=alt.Color('agrupacion_nombre:N', title='Agrupación', scale=alt.Scale(domain=list(colors.keys()), range=list(colors.values()))),\n",
    "    tooltip=['distrito_nombre:N', 'agrupacion_nombre:N', 'total_votos:Q']\n",
    ").properties(\n",
    "    width=600,\n",
    "    height=500,\n",
    "    title='Cantidad de votos por Agrupación y Provincia'\n",
    ")\n",
    "chart1"
   ]
  },
  {
   "cell_type": "code",
   "execution_count": 13,
   "metadata": {},
   "outputs": [],
   "source": [
    "presidente_votos_general = db.sql(\"select agrupacion_nombre, SUM(votos_cantidad) AS total_votos FROM voto_presidencial_general WHERE agrupacion_nombre IN ('UP','LLA','JxC','FIT-U','HpNP') GROUP BY agrupacion_nombre ORDER BY total_votos DESC\")\n",
    "presidente_votos_paso = db.sql(\"select agrupacion_nombre, SUM(votos_cantidad) AS total_votos FROM voto_presidencial_paso WHERE agrupacion_nombre IN ('UP','LLA','JxC','FIT-U','HpNP') GROUP BY agrupacion_nombre ORDER BY total_votos DESC\")"
   ]
  },
  {
   "cell_type": "code",
   "execution_count": 14,
   "metadata": {},
   "outputs": [],
   "source": [
    "colors2 = {'UP': 'rgb(0, 156, 222)', 'LLA': 'rgb(117, 59, 189)', 'JxC': 'rgb(254, 221, 0)','FIT-U': 'rgb(249, 84, 97)', 'HpNP': 'rgb(67, 72, 143)'}"
   ]
  },
  {
   "cell_type": "code",
   "execution_count": 15,
   "metadata": {},
   "outputs": [],
   "source": [
    "df_presidente_votos_general = presidente_votos_general.df()\n",
    "df_presidente_votos_paso = presidente_votos_paso.df()"
   ]
  },
  {
   "cell_type": "code",
   "execution_count": 19,
   "metadata": {},
   "outputs": [
    {
     "data": {
      "text/html": [
       "\n",
       "<style>\n",
       "  #altair-viz-58ecd5c9b2a742c4b4f97be992eed833.vega-embed {\n",
       "    width: 100%;\n",
       "    display: flex;\n",
       "  }\n",
       "\n",
       "  #altair-viz-58ecd5c9b2a742c4b4f97be992eed833.vega-embed details,\n",
       "  #altair-viz-58ecd5c9b2a742c4b4f97be992eed833.vega-embed details summary {\n",
       "    position: relative;\n",
       "  }\n",
       "</style>\n",
       "<div id=\"altair-viz-58ecd5c9b2a742c4b4f97be992eed833\"></div>\n",
       "<script type=\"text/javascript\">\n",
       "  var VEGA_DEBUG = (typeof VEGA_DEBUG == \"undefined\") ? {} : VEGA_DEBUG;\n",
       "  (function(spec, embedOpt){\n",
       "    let outputDiv = document.currentScript.previousElementSibling;\n",
       "    if (outputDiv.id !== \"altair-viz-58ecd5c9b2a742c4b4f97be992eed833\") {\n",
       "      outputDiv = document.getElementById(\"altair-viz-58ecd5c9b2a742c4b4f97be992eed833\");\n",
       "    }\n",
       "    const paths = {\n",
       "      \"vega\": \"https://cdn.jsdelivr.net/npm/vega@5?noext\",\n",
       "      \"vega-lib\": \"https://cdn.jsdelivr.net/npm/vega-lib?noext\",\n",
       "      \"vega-lite\": \"https://cdn.jsdelivr.net/npm/vega-lite@5.15.1?noext\",\n",
       "      \"vega-embed\": \"https://cdn.jsdelivr.net/npm/vega-embed@6?noext\",\n",
       "    };\n",
       "\n",
       "    function maybeLoadScript(lib, version) {\n",
       "      var key = `${lib.replace(\"-\", \"\")}_version`;\n",
       "      return (VEGA_DEBUG[key] == version) ?\n",
       "        Promise.resolve(paths[lib]) :\n",
       "        new Promise(function(resolve, reject) {\n",
       "          var s = document.createElement('script');\n",
       "          document.getElementsByTagName(\"head\")[0].appendChild(s);\n",
       "          s.async = true;\n",
       "          s.onload = () => {\n",
       "            VEGA_DEBUG[key] = version;\n",
       "            return resolve(paths[lib]);\n",
       "          };\n",
       "          s.onerror = () => reject(`Error loading script: ${paths[lib]}`);\n",
       "          s.src = paths[lib];\n",
       "        });\n",
       "    }\n",
       "\n",
       "    function showError(err) {\n",
       "      outputDiv.innerHTML = `<div class=\"error\" style=\"color:red;\">${err}</div>`;\n",
       "      throw err;\n",
       "    }\n",
       "\n",
       "    function displayChart(vegaEmbed) {\n",
       "      vegaEmbed(outputDiv, spec, embedOpt)\n",
       "        .catch(err => showError(`Javascript Error: ${err.message}<br>This usually means there's a typo in your chart specification. See the javascript console for the full traceback.`));\n",
       "    }\n",
       "\n",
       "    if(typeof define === \"function\" && define.amd) {\n",
       "      requirejs.config({paths});\n",
       "      require([\"vega-embed\"], displayChart, err => showError(`Error loading script: ${err.message}`));\n",
       "    } else {\n",
       "      maybeLoadScript(\"vega\", \"5\")\n",
       "        .then(() => maybeLoadScript(\"vega-lite\", \"5.15.1\"))\n",
       "        .then(() => maybeLoadScript(\"vega-embed\", \"6\"))\n",
       "        .catch(showError)\n",
       "        .then(() => displayChart(vegaEmbed));\n",
       "    }\n",
       "  })({\"config\": {\"view\": {\"continuousWidth\": 300, \"continuousHeight\": 300}}, \"vconcat\": [{\"data\": {\"name\": \"data-66a5a687ddde01d71076bfe31d7649f2\"}, \"mark\": {\"type\": \"bar\"}, \"encoding\": {\"color\": {\"field\": \"agrupacion_nombre\", \"scale\": {\"domain\": [\"UP\", \"LLA\", \"JxC\", \"FIT-U\", \"HpNP\"], \"range\": [\"rgb(0, 156, 222)\", \"rgb(117, 59, 189)\", \"rgb(254, 221, 0)\", \"rgb(249, 84, 97)\", \"rgb(67, 72, 143)\"]}, \"title\": \"Agrupaci\\u00f3n\", \"type\": \"nominal\"}, \"tooltip\": [{\"field\": \"agrupacion_nombre\", \"type\": \"nominal\"}, {\"field\": \"total_votos\", \"type\": \"quantitative\"}], \"x\": {\"field\": \"total_votos\", \"scale\": {\"domain\": [0, 10000000]}, \"title\": \"Total de Votos\", \"type\": \"quantitative\"}, \"y\": {\"field\": \"agrupacion_nombre\", \"sort\": {\"field\": \"total_votos:Q\", \"order\": \"descending\"}, \"title\": \"Agrupaci\\u00f3n\", \"type\": \"nominal\"}}, \"height\": 250, \"title\": \"Total de Votos en Elecciones PASO por Agrupaci\\u00f3n\", \"width\": 700}, {\"data\": {\"name\": \"data-2a0fa08bb2076193cfcb75f126688ef6\"}, \"mark\": {\"type\": \"bar\"}, \"encoding\": {\"color\": {\"field\": \"agrupacion_nombre\", \"scale\": {\"domain\": [\"UP\", \"LLA\", \"JxC\", \"FIT-U\", \"HpNP\"], \"range\": [\"rgb(0, 156, 222)\", \"rgb(117, 59, 189)\", \"rgb(254, 221, 0)\", \"rgb(249, 84, 97)\", \"rgb(67, 72, 143)\"]}, \"title\": \"Agrupaci\\u00f3n\", \"type\": \"nominal\"}, \"tooltip\": [{\"field\": \"agrupacion_nombre\", \"type\": \"nominal\"}, {\"field\": \"total_votos\", \"type\": \"quantitative\"}], \"x\": {\"field\": \"total_votos\", \"title\": \"Total de Votos\", \"type\": \"quantitative\"}, \"y\": {\"field\": \"agrupacion_nombre\", \"sort\": {\"field\": \"total_votos:Q\", \"order\": \"descending\"}, \"title\": \"Agrupaci\\u00f3n\", \"type\": \"nominal\"}}, \"height\": 250, \"title\": \"Total de Votos en Elecciones Generales por Agrupaci\\u00f3n\", \"width\": 700}], \"$schema\": \"https://vega.github.io/schema/vega-lite/v5.15.1.json\", \"datasets\": {\"data-66a5a687ddde01d71076bfe31d7649f2\": [{\"agrupacion_nombre\": \"LLA\", \"total_votos\": 7116352.0}, {\"agrupacion_nombre\": \"JxC\", \"total_votos\": 6698029.0}, {\"agrupacion_nombre\": \"UP\", \"total_votos\": 6460689.0}, {\"agrupacion_nombre\": \"HpNP\", \"total_votos\": 907437.0}, {\"agrupacion_nombre\": \"FIT-U\", \"total_votos\": 628893.0}], \"data-2a0fa08bb2076193cfcb75f126688ef6\": [{\"agrupacion_nombre\": \"UP\", \"total_votos\": 9645983.0}, {\"agrupacion_nombre\": \"LLA\", \"total_votos\": 7884336.0}, {\"agrupacion_nombre\": \"JxC\", \"total_votos\": 6267152.0}, {\"agrupacion_nombre\": \"HpNP\", \"total_votos\": 1784315.0}, {\"agrupacion_nombre\": \"FIT-U\", \"total_votos\": 709932.0}]}}, {\"mode\": \"vega-lite\"});\n",
       "</script>"
      ],
      "text/plain": [
       "alt.VConcatChart(...)"
      ]
     },
     "execution_count": 19,
     "metadata": {},
     "output_type": "execute_result"
    }
   ],
   "source": [
    "# Reultados de las elecciones\n",
    "paso = alt.Chart(df_presidente_votos_paso).mark_bar().encode(\n",
    "    y=alt.Y('agrupacion_nombre:N', title='Agrupación', sort=alt.EncodingSortField(field='total_votos:Q', order='descending')),\n",
    "    x=alt.X('total_votos:Q', title='Total de Votos', scale=alt.Scale(domain=(0, 10000000))), \n",
    "    color=alt.Color('agrupacion_nombre:N', title='Agrupación', scale=alt.Scale(domain=list(colors2.keys()), range=list(colors2.values()))),\n",
    "    tooltip=['agrupacion_nombre:N', 'total_votos:Q']\n",
    ").properties(\n",
    "    width=700,\n",
    "    height=250,\n",
    "    title='Total de Votos en Elecciones PASO por Agrupación'\n",
    ")\n",
    "generales = alt.Chart(df_presidente_votos_general).mark_bar().encode(\n",
    "    y=alt.Y('agrupacion_nombre:N', title='Agrupación', sort=alt.EncodingSortField(field='total_votos:Q', order='descending')),\n",
    "    x=alt.X('total_votos:Q', title='Total de Votos'), \n",
    "    color=alt.Color('agrupacion_nombre:N', title='Agrupación', scale=alt.Scale(domain=list(colors2.keys()), range=list(colors2.values()))),\n",
    "    tooltip=['agrupacion_nombre:N', 'total_votos:Q']\n",
    ").properties(\n",
    "    width=700,\n",
    "    height=250,\n",
    "    title='Total de Votos en Elecciones Generales por Agrupación'\n",
    ")\n",
    "grafico_final = paso & generales\n",
    "grafico_final"
   ]
  },
  {
   "cell_type": "code",
   "execution_count": 21,
   "metadata": {},
   "outputs": [],
   "source": [
    "df_votos_presidente = pd.merge(df_presidente_votos_paso, df_presidente_votos_general, on='agrupacion_nombre', suffixes=('_paso', '_generales'))"
   ]
  },
  {
   "cell_type": "code",
   "execution_count": 32,
   "metadata": {},
   "outputs": [],
   "source": [
    "df_votos_presidente['diferencia_votos'] = df_votos_presidente['total_votos_generales'] - df_votos_presidente['total_votos_paso']\n",
    "df_diferencia_votos_presidente = df_votos_presidente[['agrupacion_nombre', 'diferencia_votos']]"
   ]
  },
  {
   "cell_type": "code",
   "execution_count": 33,
   "metadata": {},
   "outputs": [],
   "source": [
    "colors2 = {'UP': 'rgb(0, 156, 222)', 'LLA': 'rgb(117, 59, 189)', 'JxC': 'rgb(254, 221, 0)','FIT-U': 'rgb(249, 84, 97)', 'HpNP': 'rgb(67, 72, 143)'}"
   ]
  },
  {
   "cell_type": "code",
   "execution_count": 34,
   "metadata": {},
   "outputs": [
    {
     "data": {
      "text/html": [
       "\n",
       "<style>\n",
       "  #altair-viz-5c957e418a4a47219faeff509a641e25.vega-embed {\n",
       "    width: 100%;\n",
       "    display: flex;\n",
       "  }\n",
       "\n",
       "  #altair-viz-5c957e418a4a47219faeff509a641e25.vega-embed details,\n",
       "  #altair-viz-5c957e418a4a47219faeff509a641e25.vega-embed details summary {\n",
       "    position: relative;\n",
       "  }\n",
       "</style>\n",
       "<div id=\"altair-viz-5c957e418a4a47219faeff509a641e25\"></div>\n",
       "<script type=\"text/javascript\">\n",
       "  var VEGA_DEBUG = (typeof VEGA_DEBUG == \"undefined\") ? {} : VEGA_DEBUG;\n",
       "  (function(spec, embedOpt){\n",
       "    let outputDiv = document.currentScript.previousElementSibling;\n",
       "    if (outputDiv.id !== \"altair-viz-5c957e418a4a47219faeff509a641e25\") {\n",
       "      outputDiv = document.getElementById(\"altair-viz-5c957e418a4a47219faeff509a641e25\");\n",
       "    }\n",
       "    const paths = {\n",
       "      \"vega\": \"https://cdn.jsdelivr.net/npm/vega@5?noext\",\n",
       "      \"vega-lib\": \"https://cdn.jsdelivr.net/npm/vega-lib?noext\",\n",
       "      \"vega-lite\": \"https://cdn.jsdelivr.net/npm/vega-lite@5.15.1?noext\",\n",
       "      \"vega-embed\": \"https://cdn.jsdelivr.net/npm/vega-embed@6?noext\",\n",
       "    };\n",
       "\n",
       "    function maybeLoadScript(lib, version) {\n",
       "      var key = `${lib.replace(\"-\", \"\")}_version`;\n",
       "      return (VEGA_DEBUG[key] == version) ?\n",
       "        Promise.resolve(paths[lib]) :\n",
       "        new Promise(function(resolve, reject) {\n",
       "          var s = document.createElement('script');\n",
       "          document.getElementsByTagName(\"head\")[0].appendChild(s);\n",
       "          s.async = true;\n",
       "          s.onload = () => {\n",
       "            VEGA_DEBUG[key] = version;\n",
       "            return resolve(paths[lib]);\n",
       "          };\n",
       "          s.onerror = () => reject(`Error loading script: ${paths[lib]}`);\n",
       "          s.src = paths[lib];\n",
       "        });\n",
       "    }\n",
       "\n",
       "    function showError(err) {\n",
       "      outputDiv.innerHTML = `<div class=\"error\" style=\"color:red;\">${err}</div>`;\n",
       "      throw err;\n",
       "    }\n",
       "\n",
       "    function displayChart(vegaEmbed) {\n",
       "      vegaEmbed(outputDiv, spec, embedOpt)\n",
       "        .catch(err => showError(`Javascript Error: ${err.message}<br>This usually means there's a typo in your chart specification. See the javascript console for the full traceback.`));\n",
       "    }\n",
       "\n",
       "    if(typeof define === \"function\" && define.amd) {\n",
       "      requirejs.config({paths});\n",
       "      require([\"vega-embed\"], displayChart, err => showError(`Error loading script: ${err.message}`));\n",
       "    } else {\n",
       "      maybeLoadScript(\"vega\", \"5\")\n",
       "        .then(() => maybeLoadScript(\"vega-lite\", \"5.15.1\"))\n",
       "        .then(() => maybeLoadScript(\"vega-embed\", \"6\"))\n",
       "        .catch(showError)\n",
       "        .then(() => displayChart(vegaEmbed));\n",
       "    }\n",
       "  })({\"config\": {\"view\": {\"continuousWidth\": 300, \"continuousHeight\": 300}}, \"data\": {\"name\": \"data-07321612f04852884d18c747d43bbbb0\"}, \"mark\": {\"type\": \"bar\"}, \"encoding\": {\"color\": {\"field\": \"agrupacion_nombre\", \"scale\": {\"domain\": [\"UP\", \"LLA\", \"JxC\", \"FIT-U\", \"HpNP\"], \"range\": [\"rgb(0, 156, 222)\", \"rgb(117, 59, 189)\", \"rgb(254, 221, 0)\", \"rgb(249, 84, 97)\", \"rgb(67, 72, 143)\"]}, \"title\": \"Agrupaci\\u00f3n\", \"type\": \"nominal\"}, \"tooltip\": [{\"field\": \"agrupacion_nombre\", \"type\": \"nominal\"}, {\"field\": \"diferencia_votos\", \"type\": \"quantitative\"}], \"x\": {\"field\": \"diferencia_votos\", \"title\": \"Diferencia de Votos\", \"type\": \"quantitative\"}, \"y\": {\"field\": \"agrupacion_nombre\", \"sort\": {\"field\": \"diferencia_votos:Q\", \"order\": \"descending\"}, \"title\": \"Agrupaci\\u00f3n\", \"type\": \"nominal\"}}, \"height\": 500, \"title\": \"Diferencia de Votos entre Elecciones PASO y Generales por Agrupaci\\u00f3n\", \"width\": 700, \"$schema\": \"https://vega.github.io/schema/vega-lite/v5.15.1.json\", \"datasets\": {\"data-07321612f04852884d18c747d43bbbb0\": [{\"agrupacion_nombre\": \"LLA\", \"diferencia_votos\": 767984.0}, {\"agrupacion_nombre\": \"JxC\", \"diferencia_votos\": -430877.0}, {\"agrupacion_nombre\": \"UP\", \"diferencia_votos\": 3185294.0}, {\"agrupacion_nombre\": \"HpNP\", \"diferencia_votos\": 876878.0}, {\"agrupacion_nombre\": \"FIT-U\", \"diferencia_votos\": 81039.0}]}}, {\"mode\": \"vega-lite\"});\n",
       "</script>"
      ],
      "text/plain": [
       "alt.Chart(...)"
      ]
     },
     "execution_count": 34,
     "metadata": {},
     "output_type": "execute_result"
    }
   ],
   "source": [
    "# Diferencia de votos entre elecciones PASO y Generales por Agrupacion\n",
    "chart2 = alt.Chart(df_diferencia_votos_presidente).mark_bar().encode(\n",
    "    y=alt.Y('agrupacion_nombre:N', title='Agrupación', sort=alt.EncodingSortField(field='diferencia_votos:Q', order='descending')),\n",
    "    x=alt.X('diferencia_votos:Q', title='Diferencia de Votos'),\n",
    "    color=alt.Color('agrupacion_nombre:N', title='Agrupación', scale=alt.Scale(domain=list(colors2.keys()), range=list(colors2.values()))),\n",
    "    tooltip=['agrupacion_nombre:N', 'diferencia_votos:Q']\n",
    ").properties(\n",
    "    width=700,\n",
    "    height=500,\n",
    "    title='Diferencia de Votos entre Elecciones PASO y Generales por Agrupación'\n",
    ")\n",
    "chart2"
   ]
  },
  {
   "cell_type": "code",
   "execution_count": 35,
   "metadata": {},
   "outputs": [],
   "source": [
    "up_provincia_votos_general = db.sql(\"select distrito_nombre, agrupacion_nombre, SUM(votos_cantidad) AS total_votos FROM voto_presidencial_general WHERE agrupacion_nombre == 'UP' GROUP BY distrito_nombre, agrupacion_nombre ORDER BY total_votos DESC\")\n",
    "df_up_provincia_votos_general = up_provincia_votos_general.df()\n",
    "df_up_provincia_votos_general = df_up_provincia_votos_general.head(10)\n",
    "\n",
    "up_provincia_votos_paso = db.sql(\"select distrito_nombre, agrupacion_nombre, SUM(votos_cantidad) AS total_votos FROM voto_presidencial_paso WHERE agrupacion_nombre == 'UP' GROUP BY distrito_nombre, agrupacion_nombre ORDER BY total_votos DESC\")\n",
    "df_up_provincia_votos_paso = up_provincia_votos_paso.df()\n",
    "df_up_provincia_votos_paso = df_up_provincia_votos_paso.head(10)"
   ]
  },
  {
   "cell_type": "code",
   "execution_count": 57,
   "metadata": {},
   "outputs": [
    {
     "data": {
      "text/html": [
       "\n",
       "<style>\n",
       "  #altair-viz-8e15fd6919d54d5ca2a6ad8341656791.vega-embed {\n",
       "    width: 100%;\n",
       "    display: flex;\n",
       "  }\n",
       "\n",
       "  #altair-viz-8e15fd6919d54d5ca2a6ad8341656791.vega-embed details,\n",
       "  #altair-viz-8e15fd6919d54d5ca2a6ad8341656791.vega-embed details summary {\n",
       "    position: relative;\n",
       "  }\n",
       "</style>\n",
       "<div id=\"altair-viz-8e15fd6919d54d5ca2a6ad8341656791\"></div>\n",
       "<script type=\"text/javascript\">\n",
       "  var VEGA_DEBUG = (typeof VEGA_DEBUG == \"undefined\") ? {} : VEGA_DEBUG;\n",
       "  (function(spec, embedOpt){\n",
       "    let outputDiv = document.currentScript.previousElementSibling;\n",
       "    if (outputDiv.id !== \"altair-viz-8e15fd6919d54d5ca2a6ad8341656791\") {\n",
       "      outputDiv = document.getElementById(\"altair-viz-8e15fd6919d54d5ca2a6ad8341656791\");\n",
       "    }\n",
       "    const paths = {\n",
       "      \"vega\": \"https://cdn.jsdelivr.net/npm/vega@5?noext\",\n",
       "      \"vega-lib\": \"https://cdn.jsdelivr.net/npm/vega-lib?noext\",\n",
       "      \"vega-lite\": \"https://cdn.jsdelivr.net/npm/vega-lite@5.15.1?noext\",\n",
       "      \"vega-embed\": \"https://cdn.jsdelivr.net/npm/vega-embed@6?noext\",\n",
       "    };\n",
       "\n",
       "    function maybeLoadScript(lib, version) {\n",
       "      var key = `${lib.replace(\"-\", \"\")}_version`;\n",
       "      return (VEGA_DEBUG[key] == version) ?\n",
       "        Promise.resolve(paths[lib]) :\n",
       "        new Promise(function(resolve, reject) {\n",
       "          var s = document.createElement('script');\n",
       "          document.getElementsByTagName(\"head\")[0].appendChild(s);\n",
       "          s.async = true;\n",
       "          s.onload = () => {\n",
       "            VEGA_DEBUG[key] = version;\n",
       "            return resolve(paths[lib]);\n",
       "          };\n",
       "          s.onerror = () => reject(`Error loading script: ${paths[lib]}`);\n",
       "          s.src = paths[lib];\n",
       "        });\n",
       "    }\n",
       "\n",
       "    function showError(err) {\n",
       "      outputDiv.innerHTML = `<div class=\"error\" style=\"color:red;\">${err}</div>`;\n",
       "      throw err;\n",
       "    }\n",
       "\n",
       "    function displayChart(vegaEmbed) {\n",
       "      vegaEmbed(outputDiv, spec, embedOpt)\n",
       "        .catch(err => showError(`Javascript Error: ${err.message}<br>This usually means there's a typo in your chart specification. See the javascript console for the full traceback.`));\n",
       "    }\n",
       "\n",
       "    if(typeof define === \"function\" && define.amd) {\n",
       "      requirejs.config({paths});\n",
       "      require([\"vega-embed\"], displayChart, err => showError(`Error loading script: ${err.message}`));\n",
       "    } else {\n",
       "      maybeLoadScript(\"vega\", \"5\")\n",
       "        .then(() => maybeLoadScript(\"vega-lite\", \"5.15.1\"))\n",
       "        .then(() => maybeLoadScript(\"vega-embed\", \"6\"))\n",
       "        .catch(showError)\n",
       "        .then(() => displayChart(vegaEmbed));\n",
       "    }\n",
       "  })({\"config\": {\"view\": {\"continuousWidth\": 300, \"continuousHeight\": 300}}, \"vconcat\": [{\"data\": {\"name\": \"data-c63fed9a1a1e07dba557034ba0b3af9b\"}, \"mark\": {\"type\": \"bar\"}, \"encoding\": {\"color\": {\"field\": \"agrupacion_nombre\", \"scale\": {\"domain\": [\"UP\", \"LLA\", \"JxC\"], \"range\": [\"rgb(0, 156, 222)\", \"rgb(117, 59, 189)\", \"rgb(254, 221, 0)\"]}, \"title\": \"Agrupaci\\u00f3n\", \"type\": \"nominal\"}, \"tooltip\": [{\"field\": \"distrito_nombre\", \"type\": \"nominal\"}, {\"field\": \"agrupacion_nombre\", \"type\": \"nominal\"}, {\"field\": \"total_votos\", \"type\": \"quantitative\"}], \"x\": {\"field\": \"total_votos\", \"scale\": {\"domain\": [0, 4500000]}, \"title\": \"Total de Votos\", \"type\": \"quantitative\"}, \"y\": {\"field\": \"distrito_nombre\", \"sort\": {\"field\": \"total_votos:Q\", \"order\": \"descending\"}, \"title\": \"Provincias\", \"type\": \"nominal\"}}, \"height\": 150, \"title\": \"Top 10 provincias con mas votos para Union por la Patria en Elecciones PASO\", \"width\": 500}, {\"data\": {\"name\": \"data-4ac266ea684b57b88e41a12b0d4eedc5\"}, \"mark\": {\"type\": \"bar\"}, \"encoding\": {\"color\": {\"field\": \"agrupacion_nombre\", \"scale\": {\"domain\": [\"UP\", \"LLA\", \"JxC\"], \"range\": [\"rgb(0, 156, 222)\", \"rgb(117, 59, 189)\", \"rgb(254, 221, 0)\"]}, \"title\": \"Agrupaci\\u00f3n\", \"type\": \"nominal\"}, \"tooltip\": [{\"field\": \"distrito_nombre\", \"type\": \"nominal\"}, {\"field\": \"agrupacion_nombre\", \"type\": \"nominal\"}, {\"field\": \"total_votos\", \"type\": \"quantitative\"}], \"x\": {\"field\": \"total_votos\", \"scale\": {\"domain\": [0, 4500000]}, \"title\": \"Total de Votos\", \"type\": \"quantitative\"}, \"y\": {\"field\": \"distrito_nombre\", \"sort\": {\"field\": \"total_votos:Q\", \"order\": \"descending\"}, \"title\": \"Provincias\", \"type\": \"nominal\"}}, \"height\": 150, \"title\": \"Top 10 provincias con mas votos para Union por la Patria en Elecciones Generales\", \"width\": 500}], \"$schema\": \"https://vega.github.io/schema/vega-lite/v5.15.1.json\", \"datasets\": {\"data-c63fed9a1a1e07dba557034ba0b3af9b\": [{\"distrito_nombre\": \"Buenos Aires\", \"agrupacion_nombre\": \"UP\", \"total_votos\": 2831078.0}, {\"distrito_nombre\": \"Ciudad Aut\\u00f3noma de Buenos Aires\", \"agrupacion_nombre\": \"UP\", \"total_votos\": 397054.0}, {\"distrito_nombre\": \"Santa Fe\", \"agrupacion_nombre\": \"UP\", \"total_votos\": 386865.0}, {\"distrito_nombre\": \"Tucum\\u00e1n\", \"agrupacion_nombre\": \"UP\", \"total_votos\": 313085.0}, {\"distrito_nombre\": \"Santiago del Estero\", \"agrupacion_nombre\": \"UP\", \"total_votos\": 280563.0}, {\"distrito_nombre\": \"Entre R\\u00edos\", \"agrupacion_nombre\": \"UP\", \"total_votos\": 232570.0}, {\"distrito_nombre\": \"Chaco\", \"agrupacion_nombre\": \"UP\", \"total_votos\": 216257.0}, {\"distrito_nombre\": \"Corrientes\", \"agrupacion_nombre\": \"UP\", \"total_votos\": 182658.0}, {\"distrito_nombre\": \"C\\u00f3rdoba\", \"agrupacion_nombre\": \"UP\", \"total_votos\": 177528.0}, {\"distrito_nombre\": \"Mendoza\", \"agrupacion_nombre\": \"UP\", \"total_votos\": 175522.0}], \"data-4ac266ea684b57b88e41a12b0d4eedc5\": [{\"distrito_nombre\": \"Buenos Aires\", \"agrupacion_nombre\": \"UP\", \"total_votos\": 4224688.0}, {\"distrito_nombre\": \"Santa Fe\", \"agrupacion_nombre\": \"UP\", \"total_votos\": 601241.0}, {\"distrito_nombre\": \"Ciudad Aut\\u00f3noma de Buenos Aires\", \"agrupacion_nombre\": \"UP\", \"total_votos\": 600832.0}, {\"distrito_nombre\": \"Tucum\\u00e1n\", \"agrupacion_nombre\": \"UP\", \"total_votos\": 471145.0}, {\"distrito_nombre\": \"Santiago del Estero\", \"agrupacion_nombre\": \"UP\", \"total_votos\": 402863.0}, {\"distrito_nombre\": \"Chaco\", \"agrupacion_nombre\": \"UP\", \"total_votos\": 310962.0}, {\"distrito_nombre\": \"C\\u00f3rdoba\", \"agrupacion_nombre\": \"UP\", \"total_votos\": 308016.0}, {\"distrito_nombre\": \"Salta\", \"agrupacion_nombre\": \"UP\", \"total_votos\": 287756.0}, {\"distrito_nombre\": \"Entre R\\u00edos\", \"agrupacion_nombre\": \"UP\", \"total_votos\": 276850.0}, {\"distrito_nombre\": \"Misiones\", \"agrupacion_nombre\": \"UP\", \"total_votos\": 275062.0}]}}, {\"mode\": \"vega-lite\"});\n",
       "</script>"
      ],
      "text/plain": [
       "alt.VConcatChart(...)"
      ]
     },
     "execution_count": 57,
     "metadata": {},
     "output_type": "execute_result"
    }
   ],
   "source": [
    "up_paso = alt.Chart(df_up_provincia_votos_paso).mark_bar().encode(\n",
    "    y=alt.Y('distrito_nombre:N', title='Provincias', sort=alt.EncodingSortField(field='total_votos:Q', order='descending')),\n",
    "    x=alt.X('total_votos:Q', title='Total de Votos', scale=alt.Scale(domain=(0, 4500000))), \n",
    "    color=alt.Color('agrupacion_nombre:N', title='Agrupación', scale=alt.Scale(domain=list(colors.keys()), range=list(colors.values()))),\n",
    "    tooltip=['distrito_nombre:N', 'agrupacion_nombre:N', 'total_votos:Q']\n",
    ").properties(\n",
    "    width=500,\n",
    "    height=150,\n",
    "    title='Top 10 provincias con mas votos para Union por la Patria en Elecciones PASO'\n",
    ")\n",
    "up_generales = alt.Chart(df_up_provincia_votos_general).mark_bar().encode(\n",
    "    y=alt.Y('distrito_nombre:N', title='Provincias', sort=alt.EncodingSortField(field='total_votos:Q', order='descending')),\n",
    "    x=alt.X('total_votos:Q', title='Total de Votos', scale=alt.Scale(domain=(0, 4500000))), \n",
    "    color=alt.Color('agrupacion_nombre:N', title='Agrupación', scale=alt.Scale(domain=list(colors.keys()), range=list(colors.values()))),\n",
    "    tooltip=['distrito_nombre:N', 'agrupacion_nombre:N', 'total_votos:Q']\n",
    ").properties(\n",
    "    width=500,\n",
    "    height=150,\n",
    "    title='Top 10 provincias con mas votos para Union por la Patria en Elecciones Generales'\n",
    ")\n",
    "grafico_up1 = up_paso | up_generales\n",
    "grafico_up2 = up_paso & up_generales\n",
    "grafico_up2"
   ]
  },
  {
   "cell_type": "code",
   "execution_count": 37,
   "metadata": {},
   "outputs": [],
   "source": [
    "lla_provincia_votos_general = db.sql(\"select distrito_nombre, agrupacion_nombre, SUM(votos_cantidad) AS total_votos FROM voto_presidencial_general WHERE agrupacion_nombre == 'LLA' GROUP BY distrito_nombre, agrupacion_nombre ORDER BY total_votos DESC\")\n",
    "df_lla_provincia_votos_general = lla_provincia_votos_general.df()\n",
    "df_lla_provincia_votos_general = df_lla_provincia_votos_general.head(10)\n",
    "\n",
    "lla_provincia_votos_paso = db.sql(\"select distrito_nombre, agrupacion_nombre, SUM(votos_cantidad) AS total_votos FROM voto_presidencial_paso WHERE agrupacion_nombre == 'LLA' GROUP BY distrito_nombre, agrupacion_nombre ORDER BY total_votos DESC\")\n",
    "df_lla_provincia_votos_paso = lla_provincia_votos_paso.df()\n",
    "df_lla_provincia_votos_paso = df_lla_provincia_votos_paso.head(10)"
   ]
  },
  {
   "cell_type": "code",
   "execution_count": 59,
   "metadata": {},
   "outputs": [
    {
     "data": {
      "text/html": [
       "\n",
       "<style>\n",
       "  #altair-viz-985f9180d0b94582be3fcfea12d60ed8.vega-embed {\n",
       "    width: 100%;\n",
       "    display: flex;\n",
       "  }\n",
       "\n",
       "  #altair-viz-985f9180d0b94582be3fcfea12d60ed8.vega-embed details,\n",
       "  #altair-viz-985f9180d0b94582be3fcfea12d60ed8.vega-embed details summary {\n",
       "    position: relative;\n",
       "  }\n",
       "</style>\n",
       "<div id=\"altair-viz-985f9180d0b94582be3fcfea12d60ed8\"></div>\n",
       "<script type=\"text/javascript\">\n",
       "  var VEGA_DEBUG = (typeof VEGA_DEBUG == \"undefined\") ? {} : VEGA_DEBUG;\n",
       "  (function(spec, embedOpt){\n",
       "    let outputDiv = document.currentScript.previousElementSibling;\n",
       "    if (outputDiv.id !== \"altair-viz-985f9180d0b94582be3fcfea12d60ed8\") {\n",
       "      outputDiv = document.getElementById(\"altair-viz-985f9180d0b94582be3fcfea12d60ed8\");\n",
       "    }\n",
       "    const paths = {\n",
       "      \"vega\": \"https://cdn.jsdelivr.net/npm/vega@5?noext\",\n",
       "      \"vega-lib\": \"https://cdn.jsdelivr.net/npm/vega-lib?noext\",\n",
       "      \"vega-lite\": \"https://cdn.jsdelivr.net/npm/vega-lite@5.15.1?noext\",\n",
       "      \"vega-embed\": \"https://cdn.jsdelivr.net/npm/vega-embed@6?noext\",\n",
       "    };\n",
       "\n",
       "    function maybeLoadScript(lib, version) {\n",
       "      var key = `${lib.replace(\"-\", \"\")}_version`;\n",
       "      return (VEGA_DEBUG[key] == version) ?\n",
       "        Promise.resolve(paths[lib]) :\n",
       "        new Promise(function(resolve, reject) {\n",
       "          var s = document.createElement('script');\n",
       "          document.getElementsByTagName(\"head\")[0].appendChild(s);\n",
       "          s.async = true;\n",
       "          s.onload = () => {\n",
       "            VEGA_DEBUG[key] = version;\n",
       "            return resolve(paths[lib]);\n",
       "          };\n",
       "          s.onerror = () => reject(`Error loading script: ${paths[lib]}`);\n",
       "          s.src = paths[lib];\n",
       "        });\n",
       "    }\n",
       "\n",
       "    function showError(err) {\n",
       "      outputDiv.innerHTML = `<div class=\"error\" style=\"color:red;\">${err}</div>`;\n",
       "      throw err;\n",
       "    }\n",
       "\n",
       "    function displayChart(vegaEmbed) {\n",
       "      vegaEmbed(outputDiv, spec, embedOpt)\n",
       "        .catch(err => showError(`Javascript Error: ${err.message}<br>This usually means there's a typo in your chart specification. See the javascript console for the full traceback.`));\n",
       "    }\n",
       "\n",
       "    if(typeof define === \"function\" && define.amd) {\n",
       "      requirejs.config({paths});\n",
       "      require([\"vega-embed\"], displayChart, err => showError(`Error loading script: ${err.message}`));\n",
       "    } else {\n",
       "      maybeLoadScript(\"vega\", \"5\")\n",
       "        .then(() => maybeLoadScript(\"vega-lite\", \"5.15.1\"))\n",
       "        .then(() => maybeLoadScript(\"vega-embed\", \"6\"))\n",
       "        .catch(showError)\n",
       "        .then(() => displayChart(vegaEmbed));\n",
       "    }\n",
       "  })({\"config\": {\"view\": {\"continuousWidth\": 300, \"continuousHeight\": 300}}, \"vconcat\": [{\"data\": {\"name\": \"data-99783b3b6b67ac37763f6d628bd5ff35\"}, \"mark\": {\"type\": \"bar\"}, \"encoding\": {\"color\": {\"field\": \"agrupacion_nombre\", \"scale\": {\"domain\": [\"UP\", \"LLA\", \"JxC\"], \"range\": [\"rgb(0, 156, 222)\", \"rgb(117, 59, 189)\", \"rgb(254, 221, 0)\"]}, \"title\": \"Agrupaci\\u00f3n\", \"type\": \"nominal\"}, \"tooltip\": [{\"field\": \"distrito_nombre\", \"type\": \"nominal\"}, {\"field\": \"agrupacion_nombre\", \"type\": \"nominal\"}, {\"field\": \"total_votos\", \"type\": \"quantitative\"}], \"x\": {\"field\": \"total_votos\", \"scale\": {\"domain\": [0, 4500000]}, \"title\": \"Total de Votos\", \"type\": \"quantitative\"}, \"y\": {\"field\": \"distrito_nombre\", \"sort\": {\"field\": \"total_votos:Q\", \"order\": \"descending\"}, \"title\": \"Provincias\", \"type\": \"nominal\"}}, \"height\": 150, \"title\": \"Top 10 provincias con mas votos para La Libertad Avanza en Elecciones PASO\", \"width\": 500}, {\"data\": {\"name\": \"data-5a56931590a33b1f543061a7caf40af9\"}, \"mark\": {\"type\": \"bar\"}, \"encoding\": {\"color\": {\"field\": \"agrupacion_nombre\", \"scale\": {\"domain\": [\"UP\", \"LLA\", \"JxC\"], \"range\": [\"rgb(0, 156, 222)\", \"rgb(117, 59, 189)\", \"rgb(254, 221, 0)\"]}, \"title\": \"Agrupaci\\u00f3n\", \"type\": \"nominal\"}, \"tooltip\": [{\"field\": \"distrito_nombre\", \"type\": \"nominal\"}, {\"field\": \"agrupacion_nombre\", \"type\": \"nominal\"}, {\"field\": \"total_votos\", \"type\": \"quantitative\"}], \"x\": {\"field\": \"total_votos\", \"scale\": {\"domain\": [0, 4500000]}, \"title\": \"Total de Votos\", \"type\": \"quantitative\"}, \"y\": {\"field\": \"distrito_nombre\", \"sort\": {\"field\": \"total_votos:Q\", \"order\": \"descending\"}, \"title\": \"Provincias\", \"type\": \"nominal\"}}, \"height\": 150, \"title\": \"Top 10 provincias con mas votos para La Libertad Avanza en Elecciones Generales\", \"width\": 500}], \"$schema\": \"https://vega.github.io/schema/vega-lite/v5.15.1.json\", \"datasets\": {\"data-99783b3b6b67ac37763f6d628bd5ff35\": [{\"distrito_nombre\": \"Buenos Aires\", \"agrupacion_nombre\": \"LLA\", \"total_votos\": 2161679.0}, {\"distrito_nombre\": \"C\\u00f3rdoba\", \"agrupacion_nombre\": \"LLA\", \"total_votos\": 688684.0}, {\"distrito_nombre\": \"Santa Fe\", \"agrupacion_nombre\": \"LLA\", \"total_votos\": 646315.0}, {\"distrito_nombre\": \"Mendoza\", \"agrupacion_nombre\": \"LLA\", \"total_votos\": 466437.0}, {\"distrito_nombre\": \"Tucum\\u00e1n\", \"agrupacion_nombre\": \"LLA\", \"total_votos\": 342681.0}, {\"distrito_nombre\": \"Salta\", \"agrupacion_nombre\": \"LLA\", \"total_votos\": 318910.0}, {\"distrito_nombre\": \"Ciudad Aut\\u00f3noma de Buenos Aires\", \"agrupacion_nombre\": \"LLA\", \"total_votos\": 299097.0}, {\"distrito_nombre\": \"Misiones\", \"agrupacion_nombre\": \"LLA\", \"total_votos\": 277899.0}, {\"distrito_nombre\": \"Corrientes\", \"agrupacion_nombre\": \"LLA\", \"total_votos\": 181456.0}, {\"distrito_nombre\": \"Chaco\", \"agrupacion_nombre\": \"LLA\", \"total_votos\": 180599.0}], \"data-5a56931590a33b1f543061a7caf40af9\": [{\"distrito_nombre\": \"Buenos Aires\", \"agrupacion_nombre\": \"LLA\", \"total_votos\": 2533633.0}, {\"distrito_nombre\": \"C\\u00f3rdoba\", \"agrupacion_nombre\": \"LLA\", \"total_votos\": 769847.0}, {\"distrito_nombre\": \"Santa Fe\", \"agrupacion_nombre\": \"LLA\", \"total_votos\": 657813.0}, {\"distrito_nombre\": \"Mendoza\", \"agrupacion_nombre\": \"LLA\", \"total_votos\": 469367.0}, {\"distrito_nombre\": \"Ciudad Aut\\u00f3noma de Buenos Aires\", \"agrupacion_nombre\": \"LLA\", \"total_votos\": 369424.0}, {\"distrito_nombre\": \"Tucum\\u00e1n\", \"agrupacion_nombre\": \"LLA\", \"total_votos\": 365992.0}, {\"distrito_nombre\": \"Salta\", \"agrupacion_nombre\": \"LLA\", \"total_votos\": 309115.0}, {\"distrito_nombre\": \"Misiones\", \"agrupacion_nombre\": \"LLA\", \"total_votos\": 305629.0}, {\"distrito_nombre\": \"Entre R\\u00edos\", \"agrupacion_nombre\": \"LLA\", \"total_votos\": 247640.0}, {\"distrito_nombre\": \"Chaco\", \"agrupacion_nombre\": \"LLA\", \"total_votos\": 197596.0}]}}, {\"mode\": \"vega-lite\"});\n",
       "</script>"
      ],
      "text/plain": [
       "alt.VConcatChart(...)"
      ]
     },
     "execution_count": 59,
     "metadata": {},
     "output_type": "execute_result"
    }
   ],
   "source": [
    "lla_paso = alt.Chart(df_lla_provincia_votos_paso).mark_bar().encode(\n",
    "    y=alt.Y('distrito_nombre:N', title='Provincias', sort=alt.EncodingSortField(field='total_votos:Q', order='descending')),\n",
    "    x=alt.X('total_votos:Q', title='Total de Votos', scale=alt.Scale(domain=(0, 4500000))), \n",
    "    color=alt.Color('agrupacion_nombre:N', title='Agrupación', scale=alt.Scale(domain=list(colors.keys()), range=list(colors.values()))),\n",
    "    tooltip=['distrito_nombre:N', 'agrupacion_nombre:N', 'total_votos:Q']\n",
    ").properties(\n",
    "    width=500,\n",
    "    height=150,\n",
    "    title='Top 10 provincias con mas votos para La Libertad Avanza en Elecciones PASO'\n",
    ")\n",
    "lla_generales = alt.Chart(df_lla_provincia_votos_general).mark_bar().encode(\n",
    "    y=alt.Y('distrito_nombre:N', title='Provincias', sort=alt.EncodingSortField(field='total_votos:Q', order='descending')),\n",
    "    x=alt.X('total_votos:Q', title='Total de Votos', scale=alt.Scale(domain=(0, 4500000))), \n",
    "    color=alt.Color('agrupacion_nombre:N', title='Agrupación', scale=alt.Scale(domain=list(colors.keys()), range=list(colors.values()))),\n",
    "    tooltip=['distrito_nombre:N', 'agrupacion_nombre:N', 'total_votos:Q']\n",
    ").properties(\n",
    "    width=500,\n",
    "    height=150,\n",
    "    title='Top 10 provincias con mas votos para La Libertad Avanza en Elecciones Generales'\n",
    ")\n",
    "grafico_lla1 = lla_paso | lla_generales\n",
    "grafico_lla2 = lla_paso & lla_generales\n",
    "grafico_lla2"
   ]
  },
  {
   "cell_type": "code",
   "execution_count": 41,
   "metadata": {},
   "outputs": [],
   "source": [
    "jxc_provincia_votos_general = db.sql(\"select distrito_nombre, agrupacion_nombre, SUM(votos_cantidad) AS total_votos FROM voto_presidencial_general WHERE agrupacion_nombre == 'JxC' GROUP BY distrito_nombre, agrupacion_nombre ORDER BY total_votos DESC\")\n",
    "df_jxc_provincia_votos_general = jxc_provincia_votos_general.df()\n",
    "df_jxc_provincia_votos_general = df_jxc_provincia_votos_general.head(10)\n",
    "\n",
    "jxc_provincia_votos_paso = db.sql(\"select distrito_nombre, agrupacion_nombre, SUM(votos_cantidad) AS total_votos FROM voto_presidencial_paso WHERE agrupacion_nombre == 'JxC' GROUP BY distrito_nombre, agrupacion_nombre ORDER BY total_votos DESC\")\n",
    "df_jxc_provincia_votos_paso = jxc_provincia_votos_paso.df()\n",
    "df_jxc_provincia_votos_paso = df_jxc_provincia_votos_paso.head(10)"
   ]
  },
  {
   "cell_type": "code",
   "execution_count": 60,
   "metadata": {},
   "outputs": [
    {
     "data": {
      "text/html": [
       "\n",
       "<style>\n",
       "  #altair-viz-32d7ec545cf74372b0496a8edf1dc871.vega-embed {\n",
       "    width: 100%;\n",
       "    display: flex;\n",
       "  }\n",
       "\n",
       "  #altair-viz-32d7ec545cf74372b0496a8edf1dc871.vega-embed details,\n",
       "  #altair-viz-32d7ec545cf74372b0496a8edf1dc871.vega-embed details summary {\n",
       "    position: relative;\n",
       "  }\n",
       "</style>\n",
       "<div id=\"altair-viz-32d7ec545cf74372b0496a8edf1dc871\"></div>\n",
       "<script type=\"text/javascript\">\n",
       "  var VEGA_DEBUG = (typeof VEGA_DEBUG == \"undefined\") ? {} : VEGA_DEBUG;\n",
       "  (function(spec, embedOpt){\n",
       "    let outputDiv = document.currentScript.previousElementSibling;\n",
       "    if (outputDiv.id !== \"altair-viz-32d7ec545cf74372b0496a8edf1dc871\") {\n",
       "      outputDiv = document.getElementById(\"altair-viz-32d7ec545cf74372b0496a8edf1dc871\");\n",
       "    }\n",
       "    const paths = {\n",
       "      \"vega\": \"https://cdn.jsdelivr.net/npm/vega@5?noext\",\n",
       "      \"vega-lib\": \"https://cdn.jsdelivr.net/npm/vega-lib?noext\",\n",
       "      \"vega-lite\": \"https://cdn.jsdelivr.net/npm/vega-lite@5.15.1?noext\",\n",
       "      \"vega-embed\": \"https://cdn.jsdelivr.net/npm/vega-embed@6?noext\",\n",
       "    };\n",
       "\n",
       "    function maybeLoadScript(lib, version) {\n",
       "      var key = `${lib.replace(\"-\", \"\")}_version`;\n",
       "      return (VEGA_DEBUG[key] == version) ?\n",
       "        Promise.resolve(paths[lib]) :\n",
       "        new Promise(function(resolve, reject) {\n",
       "          var s = document.createElement('script');\n",
       "          document.getElementsByTagName(\"head\")[0].appendChild(s);\n",
       "          s.async = true;\n",
       "          s.onload = () => {\n",
       "            VEGA_DEBUG[key] = version;\n",
       "            return resolve(paths[lib]);\n",
       "          };\n",
       "          s.onerror = () => reject(`Error loading script: ${paths[lib]}`);\n",
       "          s.src = paths[lib];\n",
       "        });\n",
       "    }\n",
       "\n",
       "    function showError(err) {\n",
       "      outputDiv.innerHTML = `<div class=\"error\" style=\"color:red;\">${err}</div>`;\n",
       "      throw err;\n",
       "    }\n",
       "\n",
       "    function displayChart(vegaEmbed) {\n",
       "      vegaEmbed(outputDiv, spec, embedOpt)\n",
       "        .catch(err => showError(`Javascript Error: ${err.message}<br>This usually means there's a typo in your chart specification. See the javascript console for the full traceback.`));\n",
       "    }\n",
       "\n",
       "    if(typeof define === \"function\" && define.amd) {\n",
       "      requirejs.config({paths});\n",
       "      require([\"vega-embed\"], displayChart, err => showError(`Error loading script: ${err.message}`));\n",
       "    } else {\n",
       "      maybeLoadScript(\"vega\", \"5\")\n",
       "        .then(() => maybeLoadScript(\"vega-lite\", \"5.15.1\"))\n",
       "        .then(() => maybeLoadScript(\"vega-embed\", \"6\"))\n",
       "        .catch(showError)\n",
       "        .then(() => displayChart(vegaEmbed));\n",
       "    }\n",
       "  })({\"config\": {\"view\": {\"continuousWidth\": 300, \"continuousHeight\": 300}}, \"vconcat\": [{\"data\": {\"name\": \"data-da904dfae5d7cde6dd4a91986409e2a2\"}, \"mark\": {\"type\": \"bar\"}, \"encoding\": {\"color\": {\"field\": \"agrupacion_nombre\", \"scale\": {\"domain\": [\"UP\", \"LLA\", \"JxC\"], \"range\": [\"rgb(0, 156, 222)\", \"rgb(117, 59, 189)\", \"rgb(254, 221, 0)\"]}, \"title\": \"Agrupaci\\u00f3n\", \"type\": \"nominal\"}, \"tooltip\": [{\"field\": \"distrito_nombre\", \"type\": \"nominal\"}, {\"field\": \"agrupacion_nombre\", \"type\": \"nominal\"}, {\"field\": \"total_votos\", \"type\": \"quantitative\"}], \"x\": {\"field\": \"total_votos\", \"scale\": {\"domain\": [0, 4500000]}, \"title\": \"Total de Votos\", \"type\": \"quantitative\"}, \"y\": {\"field\": \"distrito_nombre\", \"sort\": {\"field\": \"total_votos:Q\", \"order\": \"descending\"}, \"title\": \"Provincias\", \"type\": \"nominal\"}}, \"height\": 150, \"title\": \"Top 10 provincias con mas votos para Juntos Por el Cambio en Elecciones PASO\", \"width\": 500}, {\"data\": {\"name\": \"data-97252f58765516baa6fe217367cd1ce8\"}, \"mark\": {\"type\": \"bar\"}, \"encoding\": {\"color\": {\"field\": \"agrupacion_nombre\", \"scale\": {\"domain\": [\"UP\", \"LLA\", \"JxC\"], \"range\": [\"rgb(0, 156, 222)\", \"rgb(117, 59, 189)\", \"rgb(254, 221, 0)\"]}, \"title\": \"Agrupaci\\u00f3n\", \"type\": \"nominal\"}, \"tooltip\": [{\"field\": \"distrito_nombre\", \"type\": \"nominal\"}, {\"field\": \"agrupacion_nombre\", \"type\": \"nominal\"}, {\"field\": \"total_votos\", \"type\": \"quantitative\"}], \"x\": {\"field\": \"total_votos\", \"scale\": {\"domain\": [0, 4500000]}, \"title\": \"Total de Votos\", \"type\": \"quantitative\"}, \"y\": {\"field\": \"distrito_nombre\", \"sort\": {\"field\": \"total_votos:Q\", \"order\": \"descending\"}, \"title\": \"Provincias\", \"type\": \"nominal\"}}, \"height\": 150, \"title\": \"Top 10 provincias con mas votos para Juntos Por el Cambio en Elecciones Generales\", \"width\": 500}], \"$schema\": \"https://vega.github.io/schema/vega-lite/v5.15.1.json\", \"datasets\": {\"data-da904dfae5d7cde6dd4a91986409e2a2\": [{\"distrito_nombre\": \"Buenos Aires\", \"agrupacion_nombre\": \"JxC\", \"total_votos\": 2567840.0}, {\"distrito_nombre\": \"Ciudad Aut\\u00f3noma de Buenos Aires\", \"agrupacion_nombre\": \"JxC\", \"total_votos\": 813264.0}, {\"distrito_nombre\": \"Santa Fe\", \"agrupacion_nombre\": \"JxC\", \"total_votos\": 579867.0}, {\"distrito_nombre\": \"C\\u00f3rdoba\", \"agrupacion_nombre\": \"JxC\", \"total_votos\": 515456.0}, {\"distrito_nombre\": \"Mendoza\", \"agrupacion_nombre\": \"JxC\", \"total_votos\": 294077.0}, {\"distrito_nombre\": \"Entre R\\u00edos\", \"agrupacion_nombre\": \"JxC\", \"total_votos\": 257263.0}, {\"distrito_nombre\": \"Corrientes\", \"agrupacion_nombre\": \"JxC\", \"total_votos\": 213104.0}, {\"distrito_nombre\": \"Tucum\\u00e1n\", \"agrupacion_nombre\": \"JxC\", \"total_votos\": 206969.0}, {\"distrito_nombre\": \"Chaco\", \"agrupacion_nombre\": \"JxC\", \"total_votos\": 165721.0}, {\"distrito_nombre\": \"Misiones\", \"agrupacion_nombre\": \"JxC\", \"total_votos\": 122528.0}], \"data-97252f58765516baa6fe217367cd1ce8\": [{\"distrito_nombre\": \"Buenos Aires\", \"agrupacion_nombre\": \"JxC\", \"total_votos\": 2374023.0}, {\"distrito_nombre\": \"Ciudad Aut\\u00f3noma de Buenos Aires\", \"agrupacion_nombre\": \"JxC\", \"total_votos\": 767367.0}, {\"distrito_nombre\": \"Santa Fe\", \"agrupacion_nombre\": \"JxC\", \"total_votos\": 544677.0}, {\"distrito_nombre\": \"C\\u00f3rdoba\", \"agrupacion_nombre\": \"JxC\", \"total_votos\": 519252.0}, {\"distrito_nombre\": \"Mendoza\", \"agrupacion_nombre\": \"JxC\", \"total_votos\": 286475.0}, {\"distrito_nombre\": \"Entre R\\u00edos\", \"agrupacion_nombre\": \"JxC\", \"total_votos\": 250512.0}, {\"distrito_nombre\": \"Corrientes\", \"agrupacion_nombre\": \"JxC\", \"total_votos\": 224519.0}, {\"distrito_nombre\": \"Chaco\", \"agrupacion_nombre\": \"JxC\", \"total_votos\": 171756.0}, {\"distrito_nombre\": \"Tucum\\u00e1n\", \"agrupacion_nombre\": \"JxC\", \"total_votos\": 153130.0}, {\"distrito_nombre\": \"Salta\", \"agrupacion_nombre\": \"JxC\", \"total_votos\": 106684.0}]}}, {\"mode\": \"vega-lite\"});\n",
       "</script>"
      ],
      "text/plain": [
       "alt.VConcatChart(...)"
      ]
     },
     "execution_count": 60,
     "metadata": {},
     "output_type": "execute_result"
    }
   ],
   "source": [
    "jxc_paso = alt.Chart(df_jxc_provincia_votos_paso).mark_bar().encode(\n",
    "    y=alt.Y('distrito_nombre:N', title='Provincias', sort=alt.EncodingSortField(field='total_votos:Q', order='descending')),\n",
    "    x=alt.X('total_votos:Q', title='Total de Votos', scale=alt.Scale(domain=(0, 4500000))), \n",
    "    color=alt.Color('agrupacion_nombre:N', title='Agrupación', scale=alt.Scale(domain=list(colors.keys()), range=list(colors.values()))),\n",
    "    tooltip=['distrito_nombre:N', 'agrupacion_nombre:N', 'total_votos:Q']\n",
    ").properties(\n",
    "    width=500,\n",
    "    height=150,\n",
    "    title='Top 10 provincias con mas votos para Juntos Por el Cambio en Elecciones PASO'\n",
    ")\n",
    "jxc_generales = alt.Chart(df_jxc_provincia_votos_general).mark_bar().encode(\n",
    "    y=alt.Y('distrito_nombre:N', title='Provincias', sort=alt.EncodingSortField(field='total_votos:Q', order='descending')),\n",
    "    x=alt.X('total_votos:Q', title='Total de Votos', scale=alt.Scale(domain=(0, 4500000))), \n",
    "    color=alt.Color('agrupacion_nombre:N', title='Agrupación', scale=alt.Scale(domain=list(colors.keys()), range=list(colors.values()))),\n",
    "    tooltip=['distrito_nombre:N', 'agrupacion_nombre:N', 'total_votos:Q']\n",
    ").properties(\n",
    "    width=500,\n",
    "    height=150,\n",
    "    title='Top 10 provincias con mas votos para Juntos Por el Cambio en Elecciones Generales'\n",
    ")\n",
    "grafico_jxc1 = jxc_paso | jxc_generales\n",
    "grafico_jxc2 = jxc_paso & jxc_generales\n",
    "grafico_jxc2"
   ]
  },
  {
   "cell_type": "code",
   "execution_count": 61,
   "metadata": {},
   "outputs": [
    {
     "data": {
      "text/html": [
       "\n",
       "<style>\n",
       "  #altair-viz-fdc97a9393d44e54af8b4ef78131a64a.vega-embed {\n",
       "    width: 100%;\n",
       "    display: flex;\n",
       "  }\n",
       "\n",
       "  #altair-viz-fdc97a9393d44e54af8b4ef78131a64a.vega-embed details,\n",
       "  #altair-viz-fdc97a9393d44e54af8b4ef78131a64a.vega-embed details summary {\n",
       "    position: relative;\n",
       "  }\n",
       "</style>\n",
       "<div id=\"altair-viz-fdc97a9393d44e54af8b4ef78131a64a\"></div>\n",
       "<script type=\"text/javascript\">\n",
       "  var VEGA_DEBUG = (typeof VEGA_DEBUG == \"undefined\") ? {} : VEGA_DEBUG;\n",
       "  (function(spec, embedOpt){\n",
       "    let outputDiv = document.currentScript.previousElementSibling;\n",
       "    if (outputDiv.id !== \"altair-viz-fdc97a9393d44e54af8b4ef78131a64a\") {\n",
       "      outputDiv = document.getElementById(\"altair-viz-fdc97a9393d44e54af8b4ef78131a64a\");\n",
       "    }\n",
       "    const paths = {\n",
       "      \"vega\": \"https://cdn.jsdelivr.net/npm/vega@5?noext\",\n",
       "      \"vega-lib\": \"https://cdn.jsdelivr.net/npm/vega-lib?noext\",\n",
       "      \"vega-lite\": \"https://cdn.jsdelivr.net/npm/vega-lite@5.15.1?noext\",\n",
       "      \"vega-embed\": \"https://cdn.jsdelivr.net/npm/vega-embed@6?noext\",\n",
       "    };\n",
       "\n",
       "    function maybeLoadScript(lib, version) {\n",
       "      var key = `${lib.replace(\"-\", \"\")}_version`;\n",
       "      return (VEGA_DEBUG[key] == version) ?\n",
       "        Promise.resolve(paths[lib]) :\n",
       "        new Promise(function(resolve, reject) {\n",
       "          var s = document.createElement('script');\n",
       "          document.getElementsByTagName(\"head\")[0].appendChild(s);\n",
       "          s.async = true;\n",
       "          s.onload = () => {\n",
       "            VEGA_DEBUG[key] = version;\n",
       "            return resolve(paths[lib]);\n",
       "          };\n",
       "          s.onerror = () => reject(`Error loading script: ${paths[lib]}`);\n",
       "          s.src = paths[lib];\n",
       "        });\n",
       "    }\n",
       "\n",
       "    function showError(err) {\n",
       "      outputDiv.innerHTML = `<div class=\"error\" style=\"color:red;\">${err}</div>`;\n",
       "      throw err;\n",
       "    }\n",
       "\n",
       "    function displayChart(vegaEmbed) {\n",
       "      vegaEmbed(outputDiv, spec, embedOpt)\n",
       "        .catch(err => showError(`Javascript Error: ${err.message}<br>This usually means there's a typo in your chart specification. See the javascript console for the full traceback.`));\n",
       "    }\n",
       "\n",
       "    if(typeof define === \"function\" && define.amd) {\n",
       "      requirejs.config({paths});\n",
       "      require([\"vega-embed\"], displayChart, err => showError(`Error loading script: ${err.message}`));\n",
       "    } else {\n",
       "      maybeLoadScript(\"vega\", \"5\")\n",
       "        .then(() => maybeLoadScript(\"vega-lite\", \"5.15.1\"))\n",
       "        .then(() => maybeLoadScript(\"vega-embed\", \"6\"))\n",
       "        .catch(showError)\n",
       "        .then(() => displayChart(vegaEmbed));\n",
       "    }\n",
       "  })({\"config\": {\"view\": {\"continuousWidth\": 300, \"continuousHeight\": 300}}, \"vconcat\": [{\"hconcat\": [{\"data\": {\"name\": \"data-c63fed9a1a1e07dba557034ba0b3af9b\"}, \"mark\": {\"type\": \"bar\"}, \"encoding\": {\"color\": {\"field\": \"agrupacion_nombre\", \"scale\": {\"domain\": [\"UP\", \"LLA\", \"JxC\"], \"range\": [\"rgb(0, 156, 222)\", \"rgb(117, 59, 189)\", \"rgb(254, 221, 0)\"]}, \"title\": \"Agrupaci\\u00f3n\", \"type\": \"nominal\"}, \"tooltip\": [{\"field\": \"distrito_nombre\", \"type\": \"nominal\"}, {\"field\": \"agrupacion_nombre\", \"type\": \"nominal\"}, {\"field\": \"total_votos\", \"type\": \"quantitative\"}], \"x\": {\"field\": \"total_votos\", \"scale\": {\"domain\": [0, 4500000]}, \"title\": \"Total de Votos\", \"type\": \"quantitative\"}, \"y\": {\"field\": \"distrito_nombre\", \"sort\": {\"field\": \"total_votos:Q\", \"order\": \"descending\"}, \"title\": \"Provincias\", \"type\": \"nominal\"}}, \"height\": 150, \"title\": \"Top 10 provincias con mas votos para Union por la Patria en Elecciones PASO\", \"width\": 500}, {\"data\": {\"name\": \"data-4ac266ea684b57b88e41a12b0d4eedc5\"}, \"mark\": {\"type\": \"bar\"}, \"encoding\": {\"color\": {\"field\": \"agrupacion_nombre\", \"scale\": {\"domain\": [\"UP\", \"LLA\", \"JxC\"], \"range\": [\"rgb(0, 156, 222)\", \"rgb(117, 59, 189)\", \"rgb(254, 221, 0)\"]}, \"title\": \"Agrupaci\\u00f3n\", \"type\": \"nominal\"}, \"tooltip\": [{\"field\": \"distrito_nombre\", \"type\": \"nominal\"}, {\"field\": \"agrupacion_nombre\", \"type\": \"nominal\"}, {\"field\": \"total_votos\", \"type\": \"quantitative\"}], \"x\": {\"field\": \"total_votos\", \"scale\": {\"domain\": [0, 4500000]}, \"title\": \"Total de Votos\", \"type\": \"quantitative\"}, \"y\": {\"field\": \"distrito_nombre\", \"sort\": {\"field\": \"total_votos:Q\", \"order\": \"descending\"}, \"title\": \"Provincias\", \"type\": \"nominal\"}}, \"height\": 150, \"title\": \"Top 10 provincias con mas votos para Union por la Patria en Elecciones Generales\", \"width\": 500}]}, {\"hconcat\": [{\"data\": {\"name\": \"data-99783b3b6b67ac37763f6d628bd5ff35\"}, \"mark\": {\"type\": \"bar\"}, \"encoding\": {\"color\": {\"field\": \"agrupacion_nombre\", \"scale\": {\"domain\": [\"UP\", \"LLA\", \"JxC\"], \"range\": [\"rgb(0, 156, 222)\", \"rgb(117, 59, 189)\", \"rgb(254, 221, 0)\"]}, \"title\": \"Agrupaci\\u00f3n\", \"type\": \"nominal\"}, \"tooltip\": [{\"field\": \"distrito_nombre\", \"type\": \"nominal\"}, {\"field\": \"agrupacion_nombre\", \"type\": \"nominal\"}, {\"field\": \"total_votos\", \"type\": \"quantitative\"}], \"x\": {\"field\": \"total_votos\", \"scale\": {\"domain\": [0, 4500000]}, \"title\": \"Total de Votos\", \"type\": \"quantitative\"}, \"y\": {\"field\": \"distrito_nombre\", \"sort\": {\"field\": \"total_votos:Q\", \"order\": \"descending\"}, \"title\": \"Provincias\", \"type\": \"nominal\"}}, \"height\": 150, \"title\": \"Top 10 provincias con mas votos para La Libertad Avanza en Elecciones PASO\", \"width\": 500}, {\"data\": {\"name\": \"data-5a56931590a33b1f543061a7caf40af9\"}, \"mark\": {\"type\": \"bar\"}, \"encoding\": {\"color\": {\"field\": \"agrupacion_nombre\", \"scale\": {\"domain\": [\"UP\", \"LLA\", \"JxC\"], \"range\": [\"rgb(0, 156, 222)\", \"rgb(117, 59, 189)\", \"rgb(254, 221, 0)\"]}, \"title\": \"Agrupaci\\u00f3n\", \"type\": \"nominal\"}, \"tooltip\": [{\"field\": \"distrito_nombre\", \"type\": \"nominal\"}, {\"field\": \"agrupacion_nombre\", \"type\": \"nominal\"}, {\"field\": \"total_votos\", \"type\": \"quantitative\"}], \"x\": {\"field\": \"total_votos\", \"scale\": {\"domain\": [0, 4500000]}, \"title\": \"Total de Votos\", \"type\": \"quantitative\"}, \"y\": {\"field\": \"distrito_nombre\", \"sort\": {\"field\": \"total_votos:Q\", \"order\": \"descending\"}, \"title\": \"Provincias\", \"type\": \"nominal\"}}, \"height\": 150, \"title\": \"Top 10 provincias con mas votos para La Libertad Avanza en Elecciones Generales\", \"width\": 500}]}, {\"hconcat\": [{\"data\": {\"name\": \"data-da904dfae5d7cde6dd4a91986409e2a2\"}, \"mark\": {\"type\": \"bar\"}, \"encoding\": {\"color\": {\"field\": \"agrupacion_nombre\", \"scale\": {\"domain\": [\"UP\", \"LLA\", \"JxC\"], \"range\": [\"rgb(0, 156, 222)\", \"rgb(117, 59, 189)\", \"rgb(254, 221, 0)\"]}, \"title\": \"Agrupaci\\u00f3n\", \"type\": \"nominal\"}, \"tooltip\": [{\"field\": \"distrito_nombre\", \"type\": \"nominal\"}, {\"field\": \"agrupacion_nombre\", \"type\": \"nominal\"}, {\"field\": \"total_votos\", \"type\": \"quantitative\"}], \"x\": {\"field\": \"total_votos\", \"scale\": {\"domain\": [0, 4500000]}, \"title\": \"Total de Votos\", \"type\": \"quantitative\"}, \"y\": {\"field\": \"distrito_nombre\", \"sort\": {\"field\": \"total_votos:Q\", \"order\": \"descending\"}, \"title\": \"Provincias\", \"type\": \"nominal\"}}, \"height\": 150, \"title\": \"Top 10 provincias con mas votos para Juntos Por el Cambio en Elecciones PASO\", \"width\": 500}, {\"data\": {\"name\": \"data-97252f58765516baa6fe217367cd1ce8\"}, \"mark\": {\"type\": \"bar\"}, \"encoding\": {\"color\": {\"field\": \"agrupacion_nombre\", \"scale\": {\"domain\": [\"UP\", \"LLA\", \"JxC\"], \"range\": [\"rgb(0, 156, 222)\", \"rgb(117, 59, 189)\", \"rgb(254, 221, 0)\"]}, \"title\": \"Agrupaci\\u00f3n\", \"type\": \"nominal\"}, \"tooltip\": [{\"field\": \"distrito_nombre\", \"type\": \"nominal\"}, {\"field\": \"agrupacion_nombre\", \"type\": \"nominal\"}, {\"field\": \"total_votos\", \"type\": \"quantitative\"}], \"x\": {\"field\": \"total_votos\", \"scale\": {\"domain\": [0, 4500000]}, \"title\": \"Total de Votos\", \"type\": \"quantitative\"}, \"y\": {\"field\": \"distrito_nombre\", \"sort\": {\"field\": \"total_votos:Q\", \"order\": \"descending\"}, \"title\": \"Provincias\", \"type\": \"nominal\"}}, \"height\": 150, \"title\": \"Top 10 provincias con mas votos para Juntos Por el Cambio en Elecciones Generales\", \"width\": 500}]}], \"$schema\": \"https://vega.github.io/schema/vega-lite/v5.15.1.json\", \"datasets\": {\"data-c63fed9a1a1e07dba557034ba0b3af9b\": [{\"distrito_nombre\": \"Buenos Aires\", \"agrupacion_nombre\": \"UP\", \"total_votos\": 2831078.0}, {\"distrito_nombre\": \"Ciudad Aut\\u00f3noma de Buenos Aires\", \"agrupacion_nombre\": \"UP\", \"total_votos\": 397054.0}, {\"distrito_nombre\": \"Santa Fe\", \"agrupacion_nombre\": \"UP\", \"total_votos\": 386865.0}, {\"distrito_nombre\": \"Tucum\\u00e1n\", \"agrupacion_nombre\": \"UP\", \"total_votos\": 313085.0}, {\"distrito_nombre\": \"Santiago del Estero\", \"agrupacion_nombre\": \"UP\", \"total_votos\": 280563.0}, {\"distrito_nombre\": \"Entre R\\u00edos\", \"agrupacion_nombre\": \"UP\", \"total_votos\": 232570.0}, {\"distrito_nombre\": \"Chaco\", \"agrupacion_nombre\": \"UP\", \"total_votos\": 216257.0}, {\"distrito_nombre\": \"Corrientes\", \"agrupacion_nombre\": \"UP\", \"total_votos\": 182658.0}, {\"distrito_nombre\": \"C\\u00f3rdoba\", \"agrupacion_nombre\": \"UP\", \"total_votos\": 177528.0}, {\"distrito_nombre\": \"Mendoza\", \"agrupacion_nombre\": \"UP\", \"total_votos\": 175522.0}], \"data-4ac266ea684b57b88e41a12b0d4eedc5\": [{\"distrito_nombre\": \"Buenos Aires\", \"agrupacion_nombre\": \"UP\", \"total_votos\": 4224688.0}, {\"distrito_nombre\": \"Santa Fe\", \"agrupacion_nombre\": \"UP\", \"total_votos\": 601241.0}, {\"distrito_nombre\": \"Ciudad Aut\\u00f3noma de Buenos Aires\", \"agrupacion_nombre\": \"UP\", \"total_votos\": 600832.0}, {\"distrito_nombre\": \"Tucum\\u00e1n\", \"agrupacion_nombre\": \"UP\", \"total_votos\": 471145.0}, {\"distrito_nombre\": \"Santiago del Estero\", \"agrupacion_nombre\": \"UP\", \"total_votos\": 402863.0}, {\"distrito_nombre\": \"Chaco\", \"agrupacion_nombre\": \"UP\", \"total_votos\": 310962.0}, {\"distrito_nombre\": \"C\\u00f3rdoba\", \"agrupacion_nombre\": \"UP\", \"total_votos\": 308016.0}, {\"distrito_nombre\": \"Salta\", \"agrupacion_nombre\": \"UP\", \"total_votos\": 287756.0}, {\"distrito_nombre\": \"Entre R\\u00edos\", \"agrupacion_nombre\": \"UP\", \"total_votos\": 276850.0}, {\"distrito_nombre\": \"Misiones\", \"agrupacion_nombre\": \"UP\", \"total_votos\": 275062.0}], \"data-99783b3b6b67ac37763f6d628bd5ff35\": [{\"distrito_nombre\": \"Buenos Aires\", \"agrupacion_nombre\": \"LLA\", \"total_votos\": 2161679.0}, {\"distrito_nombre\": \"C\\u00f3rdoba\", \"agrupacion_nombre\": \"LLA\", \"total_votos\": 688684.0}, {\"distrito_nombre\": \"Santa Fe\", \"agrupacion_nombre\": \"LLA\", \"total_votos\": 646315.0}, {\"distrito_nombre\": \"Mendoza\", \"agrupacion_nombre\": \"LLA\", \"total_votos\": 466437.0}, {\"distrito_nombre\": \"Tucum\\u00e1n\", \"agrupacion_nombre\": \"LLA\", \"total_votos\": 342681.0}, {\"distrito_nombre\": \"Salta\", \"agrupacion_nombre\": \"LLA\", \"total_votos\": 318910.0}, {\"distrito_nombre\": \"Ciudad Aut\\u00f3noma de Buenos Aires\", \"agrupacion_nombre\": \"LLA\", \"total_votos\": 299097.0}, {\"distrito_nombre\": \"Misiones\", \"agrupacion_nombre\": \"LLA\", \"total_votos\": 277899.0}, {\"distrito_nombre\": \"Corrientes\", \"agrupacion_nombre\": \"LLA\", \"total_votos\": 181456.0}, {\"distrito_nombre\": \"Chaco\", \"agrupacion_nombre\": \"LLA\", \"total_votos\": 180599.0}], \"data-5a56931590a33b1f543061a7caf40af9\": [{\"distrito_nombre\": \"Buenos Aires\", \"agrupacion_nombre\": \"LLA\", \"total_votos\": 2533633.0}, {\"distrito_nombre\": \"C\\u00f3rdoba\", \"agrupacion_nombre\": \"LLA\", \"total_votos\": 769847.0}, {\"distrito_nombre\": \"Santa Fe\", \"agrupacion_nombre\": \"LLA\", \"total_votos\": 657813.0}, {\"distrito_nombre\": \"Mendoza\", \"agrupacion_nombre\": \"LLA\", \"total_votos\": 469367.0}, {\"distrito_nombre\": \"Ciudad Aut\\u00f3noma de Buenos Aires\", \"agrupacion_nombre\": \"LLA\", \"total_votos\": 369424.0}, {\"distrito_nombre\": \"Tucum\\u00e1n\", \"agrupacion_nombre\": \"LLA\", \"total_votos\": 365992.0}, {\"distrito_nombre\": \"Salta\", \"agrupacion_nombre\": \"LLA\", \"total_votos\": 309115.0}, {\"distrito_nombre\": \"Misiones\", \"agrupacion_nombre\": \"LLA\", \"total_votos\": 305629.0}, {\"distrito_nombre\": \"Entre R\\u00edos\", \"agrupacion_nombre\": \"LLA\", \"total_votos\": 247640.0}, {\"distrito_nombre\": \"Chaco\", \"agrupacion_nombre\": \"LLA\", \"total_votos\": 197596.0}], \"data-da904dfae5d7cde6dd4a91986409e2a2\": [{\"distrito_nombre\": \"Buenos Aires\", \"agrupacion_nombre\": \"JxC\", \"total_votos\": 2567840.0}, {\"distrito_nombre\": \"Ciudad Aut\\u00f3noma de Buenos Aires\", \"agrupacion_nombre\": \"JxC\", \"total_votos\": 813264.0}, {\"distrito_nombre\": \"Santa Fe\", \"agrupacion_nombre\": \"JxC\", \"total_votos\": 579867.0}, {\"distrito_nombre\": \"C\\u00f3rdoba\", \"agrupacion_nombre\": \"JxC\", \"total_votos\": 515456.0}, {\"distrito_nombre\": \"Mendoza\", \"agrupacion_nombre\": \"JxC\", \"total_votos\": 294077.0}, {\"distrito_nombre\": \"Entre R\\u00edos\", \"agrupacion_nombre\": \"JxC\", \"total_votos\": 257263.0}, {\"distrito_nombre\": \"Corrientes\", \"agrupacion_nombre\": \"JxC\", \"total_votos\": 213104.0}, {\"distrito_nombre\": \"Tucum\\u00e1n\", \"agrupacion_nombre\": \"JxC\", \"total_votos\": 206969.0}, {\"distrito_nombre\": \"Chaco\", \"agrupacion_nombre\": \"JxC\", \"total_votos\": 165721.0}, {\"distrito_nombre\": \"Misiones\", \"agrupacion_nombre\": \"JxC\", \"total_votos\": 122528.0}], \"data-97252f58765516baa6fe217367cd1ce8\": [{\"distrito_nombre\": \"Buenos Aires\", \"agrupacion_nombre\": \"JxC\", \"total_votos\": 2374023.0}, {\"distrito_nombre\": \"Ciudad Aut\\u00f3noma de Buenos Aires\", \"agrupacion_nombre\": \"JxC\", \"total_votos\": 767367.0}, {\"distrito_nombre\": \"Santa Fe\", \"agrupacion_nombre\": \"JxC\", \"total_votos\": 544677.0}, {\"distrito_nombre\": \"C\\u00f3rdoba\", \"agrupacion_nombre\": \"JxC\", \"total_votos\": 519252.0}, {\"distrito_nombre\": \"Mendoza\", \"agrupacion_nombre\": \"JxC\", \"total_votos\": 286475.0}, {\"distrito_nombre\": \"Entre R\\u00edos\", \"agrupacion_nombre\": \"JxC\", \"total_votos\": 250512.0}, {\"distrito_nombre\": \"Corrientes\", \"agrupacion_nombre\": \"JxC\", \"total_votos\": 224519.0}, {\"distrito_nombre\": \"Chaco\", \"agrupacion_nombre\": \"JxC\", \"total_votos\": 171756.0}, {\"distrito_nombre\": \"Tucum\\u00e1n\", \"agrupacion_nombre\": \"JxC\", \"total_votos\": 153130.0}, {\"distrito_nombre\": \"Salta\", \"agrupacion_nombre\": \"JxC\", \"total_votos\": 106684.0}]}}, {\"mode\": \"vega-lite\"});\n",
       "</script>"
      ],
      "text/plain": [
       "alt.VConcatChart(...)"
      ]
     },
     "execution_count": 61,
     "metadata": {},
     "output_type": "execute_result"
    }
   ],
   "source": [
    "grafico_final2 = grafico_up1 & grafico_lla1 & grafico_jxc1\n",
    "grafico_final2"
   ]
  }
 ],
 "metadata": {
  "interpreter": {
   "hash": "fea4fb5fe1cfd3ebc75bcbc967a2bb4181ae72c6ebebdb3db5189928491abe6e"
  },
  "kernelspec": {
   "display_name": "Python 3.9.12 64-bit ('anaconda3')",
   "language": "python",
   "name": "python3"
  },
  "language_info": {
   "codemirror_mode": {
    "name": "ipython",
    "version": 3
   },
   "file_extension": ".py",
   "mimetype": "text/x-python",
   "name": "python",
   "nbconvert_exporter": "python",
   "pygments_lexer": "ipython3",
   "version": "3.9.12"
  },
  "orig_nbformat": 4
 },
 "nbformat": 4,
 "nbformat_minor": 2
}
