{
 "cells": [
  {
   "cell_type": "code",
   "execution_count": 48,
   "metadata": {},
   "outputs": [],
   "source": [
    "import pandas as pd\n",
    "import altair as alt\n",
    "import duckdb as db\n",
    "import altair_saver\n"
   ]
  },
  {
   "cell_type": "code",
   "execution_count": 94,
   "metadata": {},
   "outputs": [],
   "source": [
    "parquet_result_1v = '/Users/liammacgaw/Desktop/InfoVis/tp/ResultadosElectorales_1v.parquet'\n",
    "parquet_result_paso = '/Users/liammacgaw/Desktop/InfoVis/tp/ResultadosElectorales_PASO_2023.parquet'"
   ]
  },
  {
   "cell_type": "code",
   "execution_count": 97,
   "metadata": {},
   "outputs": [
    {
     "data": {
      "application/vnd.jupyter.widget-view+json": {
       "model_id": "d4bfacf9bb5d40c49e828cb37cb6e43c",
       "version_major": 2,
       "version_minor": 0
      },
      "text/plain": [
       "FloatProgress(value=0.0, layout=Layout(width='auto'), style=ProgressStyle(bar_color='black'))"
      ]
     },
     "metadata": {},
     "output_type": "display_data"
    }
   ],
   "source": [
    "result_1v = pd.read_parquet('/Users/liammacgaw/Desktop/InfoVis/tp/ResultadosElectorales_1v.parquet')\n",
    "voto_presidencial_general = db.sql(\"select * from result_1v where cargo_id = 1\").df()"
   ]
  },
  {
   "cell_type": "code",
   "execution_count": 177,
   "metadata": {},
   "outputs": [
    {
     "data": {
      "application/vnd.jupyter.widget-view+json": {
       "model_id": "2c9fa5b14d0b41869b54580560d13e2a",
       "version_major": 2,
       "version_minor": 0
      },
      "text/plain": [
       "FloatProgress(value=0.0, layout=Layout(width='auto'), style=ProgressStyle(bar_color='black'))"
      ]
     },
     "metadata": {},
     "output_type": "display_data"
    }
   ],
   "source": [
    "result_paso = pd.read_parquet('/Users/liammacgaw/Desktop/InfoVis/tp/ResultadosElectorales_PASO_2023.parquet')\n",
    "voto_presidencial_paso = db.sql(\"select * from result_paso where cargo_id = 1\").df()"
   ]
  },
  {
   "cell_type": "code",
   "execution_count": 190,
   "metadata": {},
   "outputs": [],
   "source": [
    "voto_presidencial_general['distrito_nombre'] = voto_presidencial_general['distrito_nombre'].replace(\n",
    "    {'Tierra del Fuego, Antártida e Islas del Atlántico Sur': 'Tierra del Fuego'}\n",
    ")\n",
    "voto_presidencial_paso['distrito_nombre'] = voto_presidencial_paso['distrito_nombre'].replace(\n",
    "    {'Tierra del Fuego, Antártida e Islas del Atlántico Sur': 'Tierra del Fuego'}\n",
    ")\n",
    "voto_presidencial_general['agrupacion_nombre'] = voto_presidencial_general['agrupacion_nombre'].replace(\n",
    "    {'LA LIBERTAD AVANZA': 'LLA',\n",
    "    'JUNTOS POR EL CAMBIO': 'JxC',\n",
    "    'UNION POR LA PATRIA': 'UP',\n",
    "    'FRENTE DE IZQUIERDA Y DE TRABAJADORES - UNIDAD': 'FIT-U', \n",
    "    'HACEMOS POR NUESTRO PAIS': 'HpNP'}\n",
    ")\n",
    "voto_presidencial_paso['agrupacion_nombre'] = voto_presidencial_paso['agrupacion_nombre'].replace(\n",
    "    {'LA LIBERTAD AVANZA': 'LLA',\n",
    "    'JUNTOS POR EL CAMBIO': 'JxC',\n",
    "    'UNION POR LA PATRIA': 'UP',\n",
    "    'FRENTE DE IZQUIERDA Y DE TRABAJADORES - UNIDAD': 'FIT-U', \n",
    "    'HACEMOS POR NUESTRO PAIS': 'HpNP'}\n",
    ")"
   ]
  },
  {
   "cell_type": "code",
   "execution_count": 248,
   "metadata": {},
   "outputs": [],
   "source": [
    "provincia_votos_general = db.sql(\"select distrito_nombre, agrupacion_nombre, SUM(votos_cantidad) AS total_votos FROM voto_presidencial_general WHERE agrupacion_nombre IN ('UP','LLA','JxC') GROUP BY distrito_nombre, agrupacion_nombre ORDER BY distrito_nombre\")\n",
    "df_provincia_votos_general = provincia_votos_general.df()\n",
    "provincia_votos_paso = db.sql(\"select distrito_nombre, agrupacion_nombre, SUM(votos_cantidad) AS total_votos FROM voto_presidencial_paso WHERE agrupacion_nombre IN ('UP','LLA','JxC') GROUP BY distrito_nombre, agrupacion_nombre ORDER BY distrito_nombre\")\n",
    "df_provincia_votos_paso = provincia_votos_paso.df()"
   ]
  },
  {
   "cell_type": "code",
   "execution_count": 170,
   "metadata": {},
   "outputs": [],
   "source": [
    "colors = {'UP': 'rgb(0, 156, 222)', 'LLA': 'rgb(117, 59, 189)', 'JxC': 'rgb(254, 221, 0)'}"
   ]
  },
  {
   "cell_type": "code",
   "execution_count": 239,
   "metadata": {},
   "outputs": [],
   "source": [
    "# Cantidad de votos por Agrupacion y Provincia\n",
    "chart = alt.Chart(df_provincia_votos_general).mark_bar().encode(\n",
    "    y=alt.Y('distrito_nombre:N', title='Provincia'),\n",
    "    x=alt.X('total_votos:Q', title='Total de Votos'),\n",
    "    color=alt.Color('agrupacion_nombre:N', title='Agrupación', scale=alt.Scale(domain=list(colors.keys()), range=list(colors.values()))),\n",
    "    tooltip=['distrito_nombre:N', 'agrupacion_nombre:N', 'total_votos:Q']\n",
    ").properties(\n",
    "    width=1000,\n",
    "    height=700,\n",
    "    title='Cantidad de votos por Agrupación y Provincia'\n",
    ")\n",
    "chart.save('/Users/liammacgaw/Desktop/InfoVis/tp/votos por provincia.html')"
   ]
  },
  {
   "cell_type": "code",
   "execution_count": 209,
   "metadata": {},
   "outputs": [],
   "source": [
    "presidente_votos_general = db.sql(\"select agrupacion_nombre, SUM(votos_cantidad) AS total_votos FROM voto_presidencial_general WHERE agrupacion_nombre IN ('UP','LLA','JxC','FIT-U','HpNP') GROUP BY agrupacion_nombre ORDER BY total_votos DESC\")\n",
    "presidente_votos_paso = db.sql(\"select agrupacion_nombre, SUM(votos_cantidad) AS total_votos FROM voto_presidencial_paso WHERE agrupacion_nombre IN ('UP','LLA','JxC','FIT-U','HpNP') GROUP BY agrupacion_nombre ORDER BY total_votos DESC\")"
   ]
  },
  {
   "cell_type": "code",
   "execution_count": 197,
   "metadata": {},
   "outputs": [],
   "source": [
    "colors2 = {'UP': 'rgb(0, 156, 222)', 'LLA': 'rgb(117, 59, 189)', 'JxC': 'rgb(254, 221, 0)','FIT-U': 'rgb(249, 84, 97)', 'HpNP': 'rgb(67, 72, 143)'}"
   ]
  },
  {
   "cell_type": "code",
   "execution_count": 240,
   "metadata": {},
   "outputs": [],
   "source": [
    "df_presidente_votos_general = presidente_votos_general.df()\n",
    "df_presidente_votos_paso = presidente_votos_paso.df()"
   ]
  },
  {
   "cell_type": "code",
   "execution_count": 235,
   "metadata": {},
   "outputs": [],
   "source": [
    "# Reultados de las elecciones\n",
    "paso = alt.Chart(df_presidente_votos_paso).mark_bar().encode(\n",
    "    y=alt.Y('agrupacion_nombre:N', title='Agrupación', sort=alt.EncodingSortField(field='total_votos:Q', order='descending')),\n",
    "    x=alt.X('total_votos:Q', title='Total de Votos', scale=alt.Scale(domain=(0, 10000000))), \n",
    "    color=alt.Color('agrupacion_nombre:N', title='Agrupación', scale=alt.Scale(domain=list(colors2.keys()), range=list(colors2.values()))),\n",
    "    tooltip=['agrupacion_nombre:N', 'total_votos:Q']\n",
    ").properties(\n",
    "    width=1200,\n",
    "    height=325,\n",
    "    title='Total de Votos en Elecciones PASO por Agrupación'\n",
    ")\n",
    "generales = alt.Chart(df_presidente_votos_general).mark_bar().encode(\n",
    "    y=alt.Y('agrupacion_nombre:N', title='Agrupación', sort=alt.EncodingSortField(field='total_votos:Q', order='descending')),\n",
    "    x=alt.X('total_votos:Q', title='Total de Votos'), \n",
    "    color=alt.Color('agrupacion_nombre:N', title='Agrupación', scale=alt.Scale(domain=list(colors2.keys()), range=list(colors2.values()))),\n",
    "    tooltip=['agrupacion_nombre:N', 'total_votos:Q']\n",
    ").properties(\n",
    "    width=1200,\n",
    "    height=325,\n",
    "    title='Total de Votos en Elecciones Generales por Agrupación'\n",
    ")\n",
    "grafico_final = paso & generales\n",
    "grafico_final.save('/Users/liammacgaw/Desktop/InfoVis/tp/ambos resultados votos.html')"
   ]
  },
  {
   "cell_type": "code",
   "execution_count": 186,
   "metadata": {},
   "outputs": [],
   "source": [
    "df_votos_presidente = pd.merge(df_presidente_votos_paso, df_presidente_votos_general, on='agrupacion_nombre', suffixes=('_paso', '_generales'))"
   ]
  },
  {
   "cell_type": "code",
   "execution_count": 187,
   "metadata": {},
   "outputs": [],
   "source": [
    "df_votos_presidente['diferencia_votos'] = df_votos_presidente['total_votos_generales'] - df_votos_presidente['total_votos_paso']\n",
    "df_diferencia_votos_presidente = df_votos_presidente[['agrupacion_nombre', 'diferencia_votos']]"
   ]
  },
  {
   "cell_type": "code",
   "execution_count": 188,
   "metadata": {},
   "outputs": [],
   "source": [
    "colors2 = {'UP': 'rgb(0, 156, 222)', 'LLA': 'rgb(117, 59, 189)', 'JxC': 'rgb(254, 221, 0)','FIT-U': 'rgb(249, 84, 97)', 'HpNP': 'rgb(67, 72, 143)'}"
   ]
  },
  {
   "cell_type": "code",
   "execution_count": 221,
   "metadata": {},
   "outputs": [],
   "source": [
    "# Diferencia de votos entre elecciones PASO y Generales por Agrupacion\n",
    "chart = alt.Chart(df_diferencia_votos_presidente).mark_bar().encode(\n",
    "    y=alt.Y('agrupacion_nombre:N', title='Agrupación'),\n",
    "    x=alt.X('diferencia_votos:Q', title='Diferencia de Votos'),\n",
    "    color=alt.Color('agrupacion_nombre:N', title='Agrupación', scale=alt.Scale(domain=list(colors2.keys()), range=list(colors2.values()))),\n",
    "    tooltip=['agrupacion_nombre:N', 'diferencia_votos:Q']\n",
    ").properties(\n",
    "    width=1200,\n",
    "    height=700,\n",
    "    title='Diferencia de Votos entre Elecciones PASO y Generales por Agrupación'\n",
    ")\n",
    "chart.save('/Users/liammacgaw/Desktop/InfoVis/tp/diferencia de votos.html')"
   ]
  },
  {
   "cell_type": "code",
   "execution_count": 258,
   "metadata": {},
   "outputs": [],
   "source": [
    "up_provincia_votos_general = db.sql(\"select distrito_nombre, agrupacion_nombre, SUM(votos_cantidad) AS total_votos FROM voto_presidencial_general WHERE agrupacion_nombre == 'UP' GROUP BY distrito_nombre, agrupacion_nombre ORDER BY total_votos DESC\")\n",
    "df_up_provincia_votos_general = up_provincia_votos_general.df()\n",
    "df_up_provincia_votos_general = df_up_provincia_votos_general.head(10)\n",
    "\n",
    "up_provincia_votos_paso = db.sql(\"select distrito_nombre, agrupacion_nombre, SUM(votos_cantidad) AS total_votos FROM voto_presidencial_paso WHERE agrupacion_nombre == 'UP' GROUP BY distrito_nombre, agrupacion_nombre ORDER BY total_votos DESC\")\n",
    "df_up_provincia_votos_paso = up_provincia_votos_paso.df()\n",
    "df_up_provincia_votos_paso = df_up_provincia_votos_paso.head(10)"
   ]
  },
  {
   "cell_type": "code",
   "execution_count": 305,
   "metadata": {},
   "outputs": [],
   "source": [
    "up_paso = alt.Chart(df_up_provincia_votos_paso).mark_bar().encode(\n",
    "    y=alt.Y('distrito_nombre:N', title='Provincias', sort=alt.EncodingSortField(field='total_votos:Q', order='descending')),\n",
    "    x=alt.X('total_votos:Q', title='Total de Votos', scale=alt.Scale(domain=(0, 4500000))), \n",
    "    color=alt.Color('agrupacion_nombre:N', title='Agrupación', scale=alt.Scale(domain=list(colors.keys()), range=list(colors.values()))),\n",
    "    tooltip=['distrito_nombre:N', 'agrupacion_nombre:N', 'total_votos:Q']\n",
    ").properties(\n",
    "    width=430,\n",
    "    height=195,\n",
    "    title='Top 10 provincias con mas votos para Union por la Patria en Elecciones PASO'\n",
    ")\n",
    "up_generales = alt.Chart(df_up_provincia_votos_general).mark_bar().encode(\n",
    "    y=alt.Y('distrito_nombre:N', title='Provincias', sort=alt.EncodingSortField(field='total_votos:Q', order='descending')),\n",
    "    x=alt.X('total_votos:Q', title='Total de Votos', scale=alt.Scale(domain=(0, 4500000))), \n",
    "    color=alt.Color('agrupacion_nombre:N', title='Agrupación', scale=alt.Scale(domain=list(colors.keys()), range=list(colors.values()))),\n",
    "    tooltip=['distrito_nombre:N', 'agrupacion_nombre:N', 'total_votos:Q']\n",
    ").properties(\n",
    "    width=430,\n",
    "    height=195,\n",
    "    title='Top 10 provincias con mas votos para Union por la Patria en Elecciones Generales'\n",
    ")\n",
    "grafico_up = up_paso | up_generales"
   ]
  },
  {
   "cell_type": "code",
   "execution_count": 257,
   "metadata": {},
   "outputs": [],
   "source": [
    "lla_provincia_votos_general = db.sql(\"select distrito_nombre, agrupacion_nombre, SUM(votos_cantidad) AS total_votos FROM voto_presidencial_general WHERE agrupacion_nombre == 'LLA' GROUP BY distrito_nombre, agrupacion_nombre ORDER BY total_votos DESC\")\n",
    "df_lla_provincia_votos_general = lla_provincia_votos_general.df()\n",
    "df_lla_provincia_votos_general = df_lla_provincia_votos_general.head(10)\n",
    "\n",
    "lla_provincia_votos_paso = db.sql(\"select distrito_nombre, agrupacion_nombre, SUM(votos_cantidad) AS total_votos FROM voto_presidencial_paso WHERE agrupacion_nombre == 'LLA' GROUP BY distrito_nombre, agrupacion_nombre ORDER BY total_votos DESC\")\n",
    "df_lla_provincia_votos_paso = lla_provincia_votos_paso.df()\n",
    "df_lla_provincia_votos_paso = df_lla_provincia_votos_paso.head(10)"
   ]
  },
  {
   "cell_type": "code",
   "execution_count": 306,
   "metadata": {},
   "outputs": [],
   "source": [
    "lla_paso = alt.Chart(df_lla_provincia_votos_paso).mark_bar().encode(\n",
    "    y=alt.Y('distrito_nombre:N', title='Provincias', sort=alt.EncodingSortField(field='total_votos:Q', order='descending')),\n",
    "    x=alt.X('total_votos:Q', title='Total de Votos', scale=alt.Scale(domain=(0, 4500000))), \n",
    "    color=alt.Color('agrupacion_nombre:N', title='Agrupación', scale=alt.Scale(domain=list(colors.keys()), range=list(colors.values()))),\n",
    "    tooltip=['distrito_nombre:N', 'agrupacion_nombre:N', 'total_votos:Q']\n",
    ").properties(\n",
    "    width=430,\n",
    "    height=195,\n",
    "    title='Top 10 provincias con mas votos para La Libertad Avanza en Elecciones PASO'\n",
    ")\n",
    "lla_generales = alt.Chart(df_lla_provincia_votos_general).mark_bar().encode(\n",
    "    y=alt.Y('distrito_nombre:N', title='Provincias', sort=alt.EncodingSortField(field='total_votos:Q', order='descending')),\n",
    "    x=alt.X('total_votos:Q', title='Total de Votos', scale=alt.Scale(domain=(0, 4500000))), \n",
    "    color=alt.Color('agrupacion_nombre:N', title='Agrupación', scale=alt.Scale(domain=list(colors.keys()), range=list(colors.values()))),\n",
    "    tooltip=['distrito_nombre:N', 'agrupacion_nombre:N', 'total_votos:Q']\n",
    ").properties(\n",
    "    width=430,\n",
    "    height=195,\n",
    "    title='Top 10 provincias con mas votos para La Libertad Avanza en Elecciones Generales'\n",
    ")\n",
    "grafico_lla = lla_paso | lla_generales"
   ]
  },
  {
   "cell_type": "code",
   "execution_count": 256,
   "metadata": {},
   "outputs": [],
   "source": [
    "jxc_provincia_votos_general = db.sql(\"select distrito_nombre, agrupacion_nombre, SUM(votos_cantidad) AS total_votos FROM voto_presidencial_general WHERE agrupacion_nombre == 'JxC' GROUP BY distrito_nombre, agrupacion_nombre ORDER BY total_votos DESC\")\n",
    "df_jxc_provincia_votos_general = jxc_provincia_votos_general.df()\n",
    "df_jxc_provincia_votos_general = df_jxc_provincia_votos_general.head(10)\n",
    "\n",
    "jxc_provincia_votos_paso = db.sql(\"select distrito_nombre, agrupacion_nombre, SUM(votos_cantidad) AS total_votos FROM voto_presidencial_paso WHERE agrupacion_nombre == 'JxC' GROUP BY distrito_nombre, agrupacion_nombre ORDER BY total_votos DESC\")\n",
    "df_jxc_provincia_votos_paso = jxc_provincia_votos_paso.df()\n",
    "df_jxc_provincia_votos_paso = df_jxc_provincia_votos_paso.head(10)"
   ]
  },
  {
   "cell_type": "code",
   "execution_count": 307,
   "metadata": {},
   "outputs": [],
   "source": [
    "jxc_paso = alt.Chart(df_jxc_provincia_votos_paso).mark_bar().encode(\n",
    "    y=alt.Y('distrito_nombre:N', title='Provincias', sort=alt.EncodingSortField(field='total_votos:Q', order='descending')),\n",
    "    x=alt.X('total_votos:Q', title='Total de Votos', scale=alt.Scale(domain=(0, 4500000))), \n",
    "    color=alt.Color('agrupacion_nombre:N', title='Agrupación', scale=alt.Scale(domain=list(colors.keys()), range=list(colors.values()))),\n",
    "    tooltip=['distrito_nombre:N', 'agrupacion_nombre:N', 'total_votos:Q']\n",
    ").properties(\n",
    "    width=430,\n",
    "    height=195,\n",
    "    title='Top 10 provincias con mas votos para Juntos Por el Cambio en Elecciones PASO'\n",
    ")\n",
    "jxc_generales = alt.Chart(df_jxc_provincia_votos_general).mark_bar().encode(\n",
    "    y=alt.Y('distrito_nombre:N', title='Provincias', sort=alt.EncodingSortField(field='total_votos:Q', order='descending')),\n",
    "    x=alt.X('total_votos:Q', title='Total de Votos', scale=alt.Scale(domain=(0, 4500000))), \n",
    "    color=alt.Color('agrupacion_nombre:N', title='Agrupación', scale=alt.Scale(domain=list(colors.keys()), range=list(colors.values()))),\n",
    "    tooltip=['distrito_nombre:N', 'agrupacion_nombre:N', 'total_votos:Q']\n",
    ").properties(\n",
    "    width=430,\n",
    "    height=195,\n",
    "    title='Top 10 provincias con mas votos para Juntos Por el Cambio en Elecciones Generales'\n",
    ")\n",
    "grafico_jxc = jxc_paso | jxc_generales"
   ]
  },
  {
   "cell_type": "code",
   "execution_count": 308,
   "metadata": {},
   "outputs": [],
   "source": [
    "grafico_final = grafico_up & grafico_lla & grafico_jxc\n",
    "grafico_final.save('/Users/liammacgaw/Desktop/InfoVis/tp/top provincias por partido.html')"
   ]
  }
 ],
 "metadata": {
  "interpreter": {
   "hash": "fea4fb5fe1cfd3ebc75bcbc967a2bb4181ae72c6ebebdb3db5189928491abe6e"
  },
  "kernelspec": {
   "display_name": "Python 3.9.12 64-bit ('anaconda3')",
   "language": "python",
   "name": "python3"
  },
  "language_info": {
   "codemirror_mode": {
    "name": "ipython",
    "version": 3
   },
   "file_extension": ".py",
   "mimetype": "text/x-python",
   "name": "python",
   "nbconvert_exporter": "python",
   "pygments_lexer": "ipython3",
   "version": "3.9.12"
  },
  "orig_nbformat": 4
 },
 "nbformat": 4,
 "nbformat_minor": 2
}
